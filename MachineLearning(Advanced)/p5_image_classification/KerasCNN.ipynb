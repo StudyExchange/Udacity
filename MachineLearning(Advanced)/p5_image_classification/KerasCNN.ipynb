{
 "cells": [
  {
   "cell_type": "code",
   "execution_count": 1,
   "metadata": {
    "collapsed": true
   },
   "outputs": [],
   "source": [
    "## 1. Import libs"
   ]
  },
  {
   "cell_type": "code",
   "execution_count": 2,
   "metadata": {
    "collapsed": true
   },
   "outputs": [],
   "source": [
    "import numpy as np # linear algebra\n",
    "import matplotlib.pyplot as plt\n",
    "%matplotlib inline\n",
    "from sklearn.model_selection import train_test_split\n",
    "from sklearn.metrics import confusion_matrix"
   ]
  },
  {
   "cell_type": "code",
   "execution_count": 3,
   "metadata": {},
   "outputs": [
    {
     "name": "stderr",
     "output_type": "stream",
     "text": [
      "Using TensorFlow backend.\n"
     ]
    }
   ],
   "source": [
    "from keras.utils.np_utils import to_categorical # convert to one-hot-encoding\n",
    "from keras.models import Sequential\n",
    "from keras.layers import Dense, Dropout, Flatten, Conv2D, MaxPool2D, BatchNormalization\n",
    "from keras.optimizers import Adam\n",
    "from keras.preprocessing.image import ImageDataGenerator\n",
    "from keras.callbacks import LearningRateScheduler"
   ]
  },
  {
   "cell_type": "markdown",
   "metadata": {},
   "source": [
    "## 2. Data preprocess"
   ]
  },
  {
   "cell_type": "code",
   "execution_count": 4,
   "metadata": {},
   "outputs": [
    {
     "name": "stdout",
     "output_type": "stream",
     "text": [
      "All files found!\n"
     ]
    }
   ],
   "source": [
    "\"\"\"\n",
    "DON'T MODIFY ANYTHING IN THIS CELL THAT IS BELOW THIS LINE\n",
    "\"\"\"\n",
    "from urllib.request import urlretrieve\n",
    "from os.path import isfile, isdir\n",
    "from tqdm import tqdm\n",
    "import problem_unittests as tests\n",
    "import tarfile\n",
    "\n",
    "cifar10_dataset_folder_path = 'cifar-10-batches-py'\n",
    "\n",
    "class DLProgress(tqdm):\n",
    "    last_block = 0\n",
    "\n",
    "    def hook(self, block_num=1, block_size=1, total_size=None):\n",
    "        self.total = total_size\n",
    "        self.update((block_num - self.last_block) * block_size)\n",
    "        self.last_block = block_num\n",
    "\n",
    "if not isfile('cifar-10-python.tar.gz'):\n",
    "    with DLProgress(unit='B', unit_scale=True, miniters=1, desc='CIFAR-10 Dataset') as pbar:\n",
    "        urlretrieve(\n",
    "            'https://www.cs.toronto.edu/~kriz/cifar-10-python.tar.gz',\n",
    "            'cifar-10-python.tar.gz',\n",
    "            pbar.hook)\n",
    "\n",
    "if not isdir(cifar10_dataset_folder_path):\n",
    "    with tarfile.open('cifar-10-python.tar.gz') as tar:\n",
    "        tar.extractall()\n",
    "        tar.close()\n",
    "\n",
    "\n",
    "tests.test_folder_path(cifar10_dataset_folder_path)"
   ]
  },
  {
   "cell_type": "code",
   "execution_count": 5,
   "metadata": {},
   "outputs": [
    {
     "name": "stdout",
     "output_type": "stream",
     "text": [
      "\n",
      "Stats of batch 1:\n",
      "Samples: 10000\n",
      "Label Counts: {0: 1005, 1: 974, 2: 1032, 3: 1016, 4: 999, 5: 937, 6: 1030, 7: 1001, 8: 1025, 9: 981}\n",
      "First 20 Labels: [6, 9, 9, 4, 1, 1, 2, 7, 8, 3, 4, 7, 7, 2, 9, 9, 9, 3, 2, 6]\n",
      "\n",
      "Example of Image 4:\n",
      "Image - Min Value: 0 Max Value: 254\n",
      "Image - Shape: (32, 32, 3)\n",
      "Label - Label Id: 1 Name: automobile\n"
     ]
    },
    {
     "data": {
      "image/png": "[encoded data removed]",
      "text/plain": [
       "<matplotlib.figure.Figure at 0x1b377d2c2e8>"
      ]
     },
     "metadata": {
      "image/png": {
       "height": 250,
       "width": 253
      }
     },
     "output_type": "display_data"
    }
   ],
   "source": [
    "%matplotlib inline\n",
    "%config InlineBackend.figure_format = 'retina'\n",
    "\n",
    "import helper\n",
    "import numpy as np\n",
    "\n",
    "# Explore the dataset\n",
    "batch_id = 1\n",
    "sample_id = 4\n",
    "helper.display_stats(cifar10_dataset_folder_path, batch_id, sample_id)"
   ]
  },
  {
   "cell_type": "code",
   "execution_count": 6,
   "metadata": {},
   "outputs": [
    {
     "name": "stdout",
     "output_type": "stream",
     "text": [
      "Tests Passed\n"
     ]
    }
   ],
   "source": [
    "def normalize(x):\n",
    "    \"\"\"\n",
    "    Normalize a list of sample image data in the range of 0 to 1\n",
    "    : x: List of image data.  The image shape is (32, 32, 3)\n",
    "    : return: Numpy array of normalize data\n",
    "    \"\"\"\n",
    "    return x/255.0\n",
    "\n",
    "\n",
    "\"\"\"\n",
    "DON'T MODIFY ANYTHING IN THIS CELL THAT IS BELOW THIS LINE\n",
    "\"\"\"\n",
    "tests.test_normalize(normalize)"
   ]
  },
  {
   "cell_type": "code",
   "execution_count": 7,
   "metadata": {},
   "outputs": [
    {
     "name": "stdout",
     "output_type": "stream",
     "text": [
      "Tests Passed\n"
     ]
    }
   ],
   "source": [
    "from sklearn import preprocessing\n",
    "\n",
    "def one_hot_encode(x):\n",
    "    \"\"\"\n",
    "    One hot encode a list of sample labels. Return a one-hot encoded vector for each label.\n",
    "    : x: List of sample Labels\n",
    "    : return: Numpy array of one-hot encoded labels\n",
    "    \"\"\"\n",
    "    # TODO: Implement Function\n",
    "    lb = preprocessing.LabelBinarizer()\n",
    "    labels = np.array([1, 2, 3, 4, 5, 6, 7, 8, 9, 10])\n",
    "    lb.fit(labels)\n",
    "    one_hot = lb.transform(x)\n",
    "    return one_hot\n",
    "\n",
    "\n",
    "\"\"\"\n",
    "DON'T MODIFY ANYTHING IN THIS CELL THAT IS BELOW THIS LINE\n",
    "\"\"\"\n",
    "tests.test_one_hot_encode(one_hot_encode)"
   ]
  },
  {
   "cell_type": "code",
   "execution_count": 8,
   "metadata": {
    "collapsed": true
   },
   "outputs": [],
   "source": [
    "\"\"\"\n",
    "DON'T MODIFY ANYTHING IN THIS CELL\n",
    "\"\"\"\n",
    "# Preprocess Training, Validation, and Testing Data\n",
    "helper.preprocess_and_save_data(cifar10_dataset_folder_path, normalize, one_hot_encode)"
   ]
  },
  {
   "cell_type": "code",
   "execution_count": 9,
   "metadata": {
    "collapsed": true
   },
   "outputs": [],
   "source": [
    "\"\"\"\n",
    "DON'T MODIFY ANYTHING IN THIS CELL\n",
    "\"\"\"\n",
    "import pickle\n",
    "import problem_unittests as tests\n",
    "import helper\n",
    "\n",
    "# Load the Preprocessed Validation data\n",
    "test_features, test_labels = pickle.load(open('preprocess_training.p', mode='rb'))\n",
    "valid_features, valid_labels = pickle.load(open('preprocess_validation.p', mode='rb'))"
   ]
  },
  {
   "cell_type": "code",
   "execution_count": 10,
   "metadata": {},
   "outputs": [
    {
     "name": "stdout",
     "output_type": "stream",
     "text": [
      "(10000, 32, 32, 3)\n",
      "(10000, 10)\n",
      "(5000, 32, 32, 3)\n",
      "(5000, 10)\n"
     ]
    }
   ],
   "source": [
    "print(test_features.shape)\n",
    "print(test_labels.shape)\n",
    "print(valid_features.shape)\n",
    "print(valid_labels.shape)"
   ]
  },
  {
   "cell_type": "markdown",
   "metadata": {},
   "source": [
    "## 3. Build model"
   ]
  },
  {
   "cell_type": "code",
   "execution_count": 19,
   "metadata": {},
   "outputs": [],
   "source": [
    "model = Sequential()\n",
    "\n",
    "model.add(Conv2D(filters = 64, kernel_size = (3, 3), activation='relu',\n",
    "                 input_shape = (32, 32, 3)))\n",
    "# model.add(BatchNormalization())\n",
    "model.add(MaxPool2D(strides=(2,2)))\n",
    "\n",
    "model.add(Conv2D(filters = 128, kernel_size = (3, 3), activation='relu'))\n",
    "# model.add(BatchNormalization())\n",
    "model.add(MaxPool2D(strides=(2,2)))\n",
    "\n",
    "model.add(Conv2D(filters = 128, kernel_size = (3, 3), activation='relu'))\n",
    "# model.add(BatchNormalization())\n",
    "model.add(MaxPool2D(strides=(2,2)))\n",
    "model.add(Dropout(0.25))\n",
    "\n",
    "model.add(Flatten())\n",
    "\n",
    "model.add(Dense(1024, activation='relu'))\n",
    "model.add(Dense(128, activation='relu'))\n",
    "model.add(Dropout(0.25))\n",
    "model.add(Dense(10, activation='softmax'))"
   ]
  },
  {
   "cell_type": "markdown",
   "metadata": {},
   "source": [
    "## 4. Train and cross validate model"
   ]
  },
  {
   "cell_type": "code",
   "execution_count": 20,
   "metadata": {
    "collapsed": true
   },
   "outputs": [],
   "source": [
    "datagen = ImageDataGenerator(zoom_range = 0.1,\n",
    "                            height_shift_range = 0.1,\n",
    "                            width_shift_range = 0.1,\n",
    "                            rotation_range = 10)"
   ]
  },
  {
   "cell_type": "code",
   "execution_count": 21,
   "metadata": {
    "collapsed": true
   },
   "outputs": [],
   "source": [
    "model.compile(loss='categorical_crossentropy', optimizer = Adam(lr=1e-4), metrics=[\"accuracy\"])"
   ]
  },
  {
   "cell_type": "code",
   "execution_count": 22,
   "metadata": {
    "collapsed": true
   },
   "outputs": [],
   "source": [
    "annealer = LearningRateScheduler(lambda x: 1e-3 * 0.9 ** x)"
   ]
  },
  {
   "cell_type": "code",
   "execution_count": 24,
   "metadata": {},
   "outputs": [
    {
     "name": "stdout",
     "output_type": "stream",
     "text": [
      "Epoch 1/30\n",
      "17s - loss: 1.6818 - acc: 0.2667 - val_loss: 1.4770 - val_acc: 0.3200\n",
      "Epoch 2/30\n",
      "17s - loss: 1.5168 - acc: 0.3406 - val_loss: 1.3683 - val_acc: 0.4150\n",
      "Epoch 3/30\n",
      "17s - loss: 1.3907 - acc: 0.3921 - val_loss: 1.2358 - val_acc: 0.4225\n",
      "Epoch 4/30\n",
      "17s - loss: 1.3196 - acc: 0.4278 - val_loss: 1.1870 - val_acc: 0.4550\n",
      "Epoch 5/30\n",
      "18s - loss: 1.2625 - acc: 0.4450 - val_loss: 1.1646 - val_acc: 0.4300\n",
      "Epoch 6/30\n",
      "17s - loss: 1.2106 - acc: 0.4612 - val_loss: 1.0934 - val_acc: 0.4825\n",
      "Epoch 7/30\n",
      "18s - loss: 1.1943 - acc: 0.4736 - val_loss: 1.1202 - val_acc: 0.4775\n",
      "Epoch 8/30\n",
      "17s - loss: 1.1564 - acc: 0.4966 - val_loss: 1.0317 - val_acc: 0.5225\n",
      "Epoch 9/30\n",
      "18s - loss: 1.1139 - acc: 0.5068 - val_loss: 1.0461 - val_acc: 0.5400\n",
      "Epoch 10/30\n",
      "17s - loss: 1.0846 - acc: 0.5125 - val_loss: 1.0188 - val_acc: 0.4975\n",
      "Epoch 11/30\n",
      "17s - loss: 1.0580 - acc: 0.5192 - val_loss: 1.0257 - val_acc: 0.5350\n",
      "Epoch 12/30\n",
      "17s - loss: 1.0306 - acc: 0.5449 - val_loss: 0.9690 - val_acc: 0.5450\n",
      "Epoch 13/30\n",
      "17s - loss: 1.0200 - acc: 0.5396 - val_loss: 0.9539 - val_acc: 0.5525\n",
      "Epoch 14/30\n",
      "17s - loss: 0.9832 - acc: 0.5520 - val_loss: 0.9763 - val_acc: 0.5325\n",
      "Epoch 15/30\n",
      "17s - loss: 0.9811 - acc: 0.5625 - val_loss: 0.9769 - val_acc: 0.5225\n",
      "Epoch 16/30\n",
      "17s - loss: 0.9475 - acc: 0.5680 - val_loss: 0.9628 - val_acc: 0.5300\n",
      "Epoch 17/30\n",
      "18s - loss: 0.9351 - acc: 0.5756 - val_loss: 0.9415 - val_acc: 0.5500\n",
      "Epoch 18/30\n",
      "19s - loss: 0.9253 - acc: 0.5766 - val_loss: 0.9262 - val_acc: 0.5475\n",
      "Epoch 19/30\n",
      "18s - loss: 0.9131 - acc: 0.5770 - val_loss: 0.9307 - val_acc: 0.5475\n",
      "Epoch 20/30\n",
      "17s - loss: 0.8877 - acc: 0.5875 - val_loss: 0.8974 - val_acc: 0.5750\n",
      "Epoch 21/30\n",
      "17s - loss: 0.8807 - acc: 0.5880 - val_loss: 0.9242 - val_acc: 0.5750\n",
      "Epoch 22/30\n",
      "17s - loss: 0.8798 - acc: 0.5876 - val_loss: 0.9164 - val_acc: 0.5650\n",
      "Epoch 23/30\n",
      "17s - loss: 0.8520 - acc: 0.6028 - val_loss: 0.9068 - val_acc: 0.5650\n",
      "Epoch 24/30\n",
      "17s - loss: 0.8642 - acc: 0.5971 - val_loss: 0.8996 - val_acc: 0.5775\n",
      "Epoch 25/30\n",
      "17s - loss: 0.8665 - acc: 0.6023 - val_loss: 0.8913 - val_acc: 0.5550\n",
      "Epoch 26/30\n",
      "17s - loss: 0.8530 - acc: 0.6025 - val_loss: 0.8945 - val_acc: 0.5575\n",
      "Epoch 27/30\n",
      "17s - loss: 0.8374 - acc: 0.6095 - val_loss: 0.8907 - val_acc: 0.5875\n",
      "Epoch 28/30\n",
      "18s - loss: 0.8238 - acc: 0.6135 - val_loss: 0.8828 - val_acc: 0.5725\n",
      "Epoch 29/30\n",
      "18s - loss: 0.8341 - acc: 0.6038 - val_loss: 0.8955 - val_acc: 0.5725\n",
      "Epoch 30/30\n",
      "18s - loss: 0.8274 - acc: 0.6098 - val_loss: 0.8817 - val_acc: 0.5775\n"
     ]
    }
   ],
   "source": [
    "hist = model.fit_generator(datagen.flow(test_features, test_labels, batch_size=16),\n",
    "                           steps_per_epoch=500,\n",
    "                           epochs=30, #Increase this when not on Kaggle kernel\n",
    "                           verbose=2,  #1 for ETA, 0 for silent\n",
    "                           validation_data=(valid_features[:400,:], valid_labels[:400,:]), #For speed\n",
    "                           callbacks=[annealer])"
   ]
  },
  {
   "cell_type": "markdown",
   "metadata": {},
   "source": [
    "**网络并不是单纯的网络单层节点越多越好，或者网络层数越多越好。一定的问题复杂度，需要一定规模的和结构的网络。**"
   ]
  },
  {
   "cell_type": "markdown",
   "metadata": {
    "collapsed": true
   },
   "source": [
    "## 5. Test model"
   ]
  },
  {
   "cell_type": "code",
   "execution_count": 25,
   "metadata": {},
   "outputs": [
    {
     "name": "stdout",
     "output_type": "stream",
     "text": [
      "Final loss: 0.8491, final accuracy: 0.6096\n"
     ]
    }
   ],
   "source": [
    "final_loss, final_acc = model.evaluate(valid_features[400:], valid_labels[400:], verbose=0)\n",
    "print(\"Final loss: {0:.4f}, final accuracy: {1:.4f}\".format(final_loss, final_acc))"
   ]
  },
  {
   "cell_type": "code",
   "execution_count": 26,
   "metadata": {},
   "outputs": [
    {
     "data": {
      "image/png": "[encoded data removed]",
      "text/plain": [
       "<matplotlib.figure.Figure at 0x1b301aea5c0>"
      ]
     },
     "metadata": {
      "image/png": {
       "height": 250,
       "width": 373
      }
     },
     "output_type": "display_data"
    },
    {
     "data": {
      "image/png": "[encoded data removed]",
      "text/plain": [
       "<matplotlib.figure.Figure at 0x1b302b16f60>"
      ]
     },
     "metadata": {
      "image/png": {
       "height": 250,
       "width": 380
      }
     },
     "output_type": "display_data"
    }
   ],
   "source": [
    "plt.plot(hist.history['loss'], color='b')\n",
    "plt.plot(hist.history['val_loss'], color='r')\n",
    "plt.show()\n",
    "plt.plot(hist.history['acc'], color='b')\n",
    "plt.plot(hist.history['val_acc'], color='r')\n",
    "plt.show()"
   ]
  },
  {
   "cell_type": "code",
   "execution_count": null,
   "metadata": {
    "collapsed": true
   },
   "outputs": [],
   "source": []
  }
 ],
 "metadata": {
  "kernelspec": {
   "display_name": "Python 3",
   "language": "python",
   "name": "python3"
  },
  "language_info": {
   "codemirror_mode": {
    "name": "ipython",
    "version": 3
   },
   "file_extension": ".py",
   "mimetype": "text/x-python",
   "name": "python",
   "nbconvert_exporter": "python",
   "pygments_lexer": "ipython3",
   "version": "3.5.4"
  }
 },
 "nbformat": 4,
 "nbformat_minor": 2
}
