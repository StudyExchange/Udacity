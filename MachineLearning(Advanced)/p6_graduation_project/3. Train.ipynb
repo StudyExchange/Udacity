{
 "cells": [
  {
   "cell_type": "markdown",
   "metadata": {},
   "source": [
    "# 3. Train\n",
    "\n",
    "**Tensorboard**\n",
    "- Input at command: tensorboard --logdir=./log\n",
    "- Input at browser: http://127.0.0.1:6006"
   ]
  },
  {
   "cell_type": "code",
   "execution_count": 1,
   "metadata": {},
   "outputs": [
    {
     "name": "stdout",
     "output_type": "stream",
     "text": [
      "run_name: Dog_Breed_Identification_Train_20171028_220321\n",
      "model_path: E:\\Udacity\\MachineLearning(Advanced)\\p6_graduation_project\\model\n",
      "model_path: E:\\Udacity\\MachineLearning(Advanced)\\p6_graduation_project\\log\n"
     ]
    }
   ],
   "source": [
    "import time\n",
    "import os\n",
    "import pandas as pd\n",
    "\n",
    "project_name = 'Dog_Breed_Identification'\n",
    "step_name = 'Train'\n",
    "time_str = time.strftime(\"%Y%m%d_%H%M%S\", time.localtime())\n",
    "run_name = project_name + '_' + step_name + '_' + time_str\n",
    "print('run_name: ' + run_name)\n",
    "\n",
    "cwd = os.getcwd()\n",
    "model_path = os.path.join(cwd, 'model')\n",
    "print('model_path: ' + model_path)\n",
    "log_path = os.path.join(cwd, 'log')\n",
    "print('model_path: ' + log_path)"
   ]
  },
  {
   "cell_type": "code",
   "execution_count": 2,
   "metadata": {},
   "outputs": [
    {
     "name": "stdout",
     "output_type": "stream",
     "text": [
      "lables amount: 10222\n"
     ]
    },
    {
     "data": {
      "text/html": [
       "<div>\n",
       "<style>\n",
       "    .dataframe thead tr:only-child th {\n",
       "        text-align: right;\n",
       "    }\n",
       "\n",
       "    .dataframe thead th {\n",
       "        text-align: left;\n",
       "    }\n",
       "\n",
       "    .dataframe tbody tr th {\n",
       "        vertical-align: top;\n",
       "    }\n",
       "</style>\n",
       "<table border=\"1\" class=\"dataframe\">\n",
       "  <thead>\n",
       "    <tr style=\"text-align: right;\">\n",
       "      <th></th>\n",
       "      <th>id</th>\n",
       "      <th>breed</th>\n",
       "    </tr>\n",
       "  </thead>\n",
       "  <tbody>\n",
       "    <tr>\n",
       "      <th>0</th>\n",
       "      <td>000bec180eb18c7604dcecc8fe0dba07</td>\n",
       "      <td>boston_bull</td>\n",
       "    </tr>\n",
       "    <tr>\n",
       "      <th>1</th>\n",
       "      <td>001513dfcb2ffafc82cccf4d8bbaba97</td>\n",
       "      <td>dingo</td>\n",
       "    </tr>\n",
       "    <tr>\n",
       "      <th>2</th>\n",
       "      <td>001cdf01b096e06d78e9e5112d419397</td>\n",
       "      <td>pekinese</td>\n",
       "    </tr>\n",
       "    <tr>\n",
       "      <th>3</th>\n",
       "      <td>00214f311d5d2247d5dfe4fe24b2303d</td>\n",
       "      <td>bluetick</td>\n",
       "    </tr>\n",
       "    <tr>\n",
       "      <th>4</th>\n",
       "      <td>0021f9ceb3235effd7fcde7f7538ed62</td>\n",
       "      <td>golden_retriever</td>\n",
       "    </tr>\n",
       "  </tbody>\n",
       "</table>\n",
       "</div>"
      ],
      "text/plain": [
       "                                 id             breed\n",
       "0  000bec180eb18c7604dcecc8fe0dba07       boston_bull\n",
       "1  001513dfcb2ffafc82cccf4d8bbaba97             dingo\n",
       "2  001cdf01b096e06d78e9e5112d419397          pekinese\n",
       "3  00214f311d5d2247d5dfe4fe24b2303d          bluetick\n",
       "4  0021f9ceb3235effd7fcde7f7538ed62  golden_retriever"
      ]
     },
     "execution_count": 2,
     "metadata": {},
     "output_type": "execute_result"
    }
   ],
   "source": [
    "df = pd.read_csv(os.path.join(cwd, 'input', 'labels.csv'))\n",
    "print('lables amount: %d' %len(df))\n",
    "df.head()"
   ]
  },
  {
   "cell_type": "code",
   "execution_count": 3,
   "metadata": {},
   "outputs": [
    {
     "name": "stdout",
     "output_type": "stream",
     "text": [
      "(10222, 7168)\n",
      "(7168,)\n",
      "10222\n",
      "(10357, 7168)\n"
     ]
    }
   ],
   "source": [
    "import h5py\n",
    "import numpy as np\n",
    "from sklearn.utils import shuffle\n",
    "np.random.seed(2017)\n",
    "\n",
    "x_train = []\n",
    "y_train = {}\n",
    "x_val = []\n",
    "y_val = {}\n",
    "x_test = []\n",
    "\n",
    "cwd = os.getcwd()\n",
    "feature_cgg16 = os.path.join(cwd, 'model', 'feature_VGG16_{}.h5'.format(20171026))\n",
    "feature_cgg19 = os.path.join(cwd, 'model', 'feature_VGG19_{}.h5'.format(20171026))\n",
    "feature_resnet50 = os.path.join(cwd, 'model', 'feature_ResNet50_{}.h5'.format(20171026))\n",
    "feature_xception = os.path.join(cwd, 'model', 'feature_Xception_{}.h5'.format(20171026))\n",
    "feature_inception = os.path.join(cwd, 'model', 'feature_InceptionV3_{}.h5'.format(20171026))\n",
    "# feature_inceptionResNetV2 = os.path.join(cwd, 'model', 'feature_InceptionResNetV2_{}.h5'.format(20171028))\n",
    "for filename in [feature_cgg16, feature_cgg19, feature_resnet50, feature_xception, feature_inception]:\n",
    "    with h5py.File(filename, 'r') as h:\n",
    "        x_train.append(np.array(h['train']))\n",
    "        y_train = np.array(h['train_labels'])\n",
    "        x_test.append(np.array(h['test']))\n",
    "\n",
    "# print(x_train[0].shape)\n",
    "x_train = np.concatenate(x_train, axis=-1)\n",
    "# y_train = np.concatenate(y_train, axis=0)\n",
    "# x_val = np.concatenate(x_val, axis=-1)\n",
    "# y_val = np.concatenate(y_val, axis=0)\n",
    "x_test = np.concatenate(x_test, axis=-1)\n",
    "print(x_train.shape)\n",
    "print(x_train.shape[1:])\n",
    "\n",
    "print(len(y_train))\n",
    "# print(x_val.shape)\n",
    "# print(len(y_val))\n",
    "print(x_test.shape)"
   ]
  },
  {
   "cell_type": "code",
   "execution_count": 4,
   "metadata": {},
   "outputs": [
    {
     "name": "stderr",
     "output_type": "stream",
     "text": [
      "Using TensorFlow backend.\n"
     ]
    },
    {
     "name": "stdout",
     "output_type": "stream",
     "text": [
      "(10222, 120)\n"
     ]
    }
   ],
   "source": [
    "from keras.utils.np_utils import to_categorical\n",
    "\n",
    "y_train = to_categorical(y_train)\n",
    "# y_val = to_categorical(y_val)\n",
    "print(y_train.shape)\n",
    "# print(y_val.shape)"
   ]
  },
  {
   "cell_type": "code",
   "execution_count": 5,
   "metadata": {},
   "outputs": [
    {
     "name": "stdout",
     "output_type": "stream",
     "text": [
      "(9710, 7168)\n",
      "(9710, 120)\n",
      "(512, 7168)\n",
      "(512, 120)\n"
     ]
    }
   ],
   "source": [
    "from sklearn.model_selection import train_test_split\n",
    "x_train, x_val, y_train, y_val = train_test_split(x_train, y_train, test_size=0.05, random_state=2017)\n",
    "print(x_train.shape)\n",
    "print(y_train.shape)\n",
    "print(x_val.shape)\n",
    "print(y_val.shape)"
   ]
  },
  {
   "cell_type": "code",
   "execution_count": 6,
   "metadata": {},
   "outputs": [
    {
     "name": "stdout",
     "output_type": "stream",
     "text": [
      "7168\n"
     ]
    }
   ],
   "source": [
    "print(x_train.shape[1])"
   ]
  },
  {
   "cell_type": "markdown",
   "metadata": {},
   "source": [
    "### Build NN"
   ]
  },
  {
   "cell_type": "code",
   "execution_count": 7,
   "metadata": {
    "collapsed": true
   },
   "outputs": [],
   "source": [
    "from sklearn.metrics import confusion_matrix\n",
    "\n",
    "from keras.utils.np_utils import to_categorical # convert to one-hot-encoding\n",
    "from keras.models import Sequential\n",
    "from keras.layers import Dense, Dropout, Input, Flatten, Conv2D, MaxPooling2D, BatchNormalization\n",
    "from keras.optimizers import Adam\n",
    "from keras.preprocessing.image import ImageDataGenerator\n",
    "from keras.callbacks import LearningRateScheduler, TensorBoard"
   ]
  },
  {
   "cell_type": "code",
   "execution_count": 8,
   "metadata": {},
   "outputs": [
    {
     "name": "stdout",
     "output_type": "stream",
     "text": [
      "log_dir:E:\\Udacity\\MachineLearning(Advanced)\\p6_graduation_project\\log\\Dog_Breed_Identification_Train_20171028_220321\n"
     ]
    }
   ],
   "source": [
    "log_dir = os.path.join(log_path, run_name)\n",
    "print('log_dir:' + log_dir)\n",
    "tensorBoard = TensorBoard(log_dir=log_dir)"
   ]
  },
  {
   "cell_type": "code",
   "execution_count": 9,
   "metadata": {
    "collapsed": true
   },
   "outputs": [],
   "source": [
    "model = Sequential()\n",
    "model.add(Dense(8192, input_shape=x_train.shape[1:]))\n",
    "model.add(Dropout(0.5))\n",
    "model.add(Dense(8192, activation='sigmoid'))\n",
    "model.add(Dropout(0.5))\n",
    "model.add(Dense(2048, activation='sigmoid'))\n",
    "model.add(Dropout(0.5))\n",
    "model.add(Dense(512, activation='sigmoid'))\n",
    "model.add(Dropout(0.5))\n",
    "model.add(Dense(120, activation='softmax'))\n",
    "\n",
    "model.compile(optimizer=Adam(lr=1e-4),\n",
    "              loss='categorical_crossentropy',\n",
    "              metrics=['accuracy'])"
   ]
  },
  {
   "cell_type": "code",
   "execution_count": 10,
   "metadata": {},
   "outputs": [
    {
     "name": "stdout",
     "output_type": "stream",
     "text": [
      "Train on 9710 samples, validate on 512 samples\n",
      "Epoch 1/40\n",
      "9710/9710 [==============================] - 10s - loss: 4.8974 - acc: 0.0117 - val_loss: 4.6823 - val_acc: 0.0430\n",
      "Epoch 2/40\n",
      "9710/9710 [==============================] - 9s - loss: 4.5741 - acc: 0.0407 - val_loss: 4.1562 - val_acc: 0.1445\n",
      "Epoch 3/40\n",
      "9710/9710 [==============================] - 9s - loss: 4.0831 - acc: 0.1038 - val_loss: 3.5850 - val_acc: 0.2852\n",
      "Epoch 4/40\n",
      "9710/9710 [==============================] - 9s - loss: 3.6090 - acc: 0.1872 - val_loss: 3.0853 - val_acc: 0.3770\n",
      "Epoch 5/40\n",
      "9710/9710 [==============================] - 9s - loss: 3.1512 - acc: 0.2742 - val_loss: 2.6368 - val_acc: 0.5059\n",
      "Epoch 6/40\n",
      "9710/9710 [==============================] - 9s - loss: 2.7515 - acc: 0.3605 - val_loss: 2.2516 - val_acc: 0.5840\n",
      "Epoch 7/40\n",
      "9710/9710 [==============================] - 9s - loss: 2.3936 - acc: 0.4510 - val_loss: 1.9100 - val_acc: 0.6406\n",
      "Epoch 8/40\n",
      "9710/9710 [==============================] - 9s - loss: 2.0950 - acc: 0.5209 - val_loss: 1.6358 - val_acc: 0.7051\n",
      "Epoch 9/40\n",
      "9710/9710 [==============================] - 9s - loss: 1.8038 - acc: 0.5970 - val_loss: 1.4026 - val_acc: 0.7266\n",
      "Epoch 10/40\n",
      "9710/9710 [==============================] - 9s - loss: 1.5613 - acc: 0.6650 - val_loss: 1.2185 - val_acc: 0.7637\n",
      "Epoch 11/40\n",
      "9710/9710 [==============================] - 9s - loss: 1.3675 - acc: 0.7054 - val_loss: 1.0565 - val_acc: 0.7891\n",
      "Epoch 12/40\n",
      "9710/9710 [==============================] - 9s - loss: 1.1957 - acc: 0.7460 - val_loss: 0.9364 - val_acc: 0.8027\n",
      "Epoch 13/40\n",
      "9710/9710 [==============================] - 9s - loss: 1.0586 - acc: 0.7858 - val_loss: 0.8439 - val_acc: 0.8320\n",
      "Epoch 14/40\n",
      "9710/9710 [==============================] - 9s - loss: 0.9386 - acc: 0.8060 - val_loss: 0.7723 - val_acc: 0.8301\n",
      "Epoch 15/40\n",
      "9710/9710 [==============================] - 9s - loss: 0.8356 - acc: 0.8307 - val_loss: 0.6953 - val_acc: 0.8418\n",
      "Epoch 16/40\n",
      "9710/9710 [==============================] - 9s - loss: 0.7365 - acc: 0.8562 - val_loss: 0.6531 - val_acc: 0.8535\n",
      "Epoch 17/40\n",
      "9710/9710 [==============================] - 9s - loss: 0.6651 - acc: 0.8736 - val_loss: 0.6049 - val_acc: 0.8555\n",
      "Epoch 18/40\n",
      "9710/9710 [==============================] - 9s - loss: 0.5922 - acc: 0.8863 - val_loss: 0.5775 - val_acc: 0.8535\n",
      "Epoch 19/40\n",
      "9710/9710 [==============================] - 9s - loss: 0.5355 - acc: 0.8998 - val_loss: 0.5516 - val_acc: 0.8457\n",
      "Epoch 20/40\n",
      "9710/9710 [==============================] - 9s - loss: 0.4881 - acc: 0.9107 - val_loss: 0.5311 - val_acc: 0.8457\n",
      "Epoch 21/40\n",
      "9710/9710 [==============================] - 9s - loss: 0.4366 - acc: 0.9211 - val_loss: 0.5229 - val_acc: 0.8633\n",
      "Epoch 22/40\n",
      "9710/9710 [==============================] - 9s - loss: 0.3976 - acc: 0.9283 - val_loss: 0.4885 - val_acc: 0.8750\n",
      "Epoch 23/40\n",
      "9710/9710 [==============================] - 9s - loss: 0.3579 - acc: 0.9375 - val_loss: 0.4801 - val_acc: 0.8613\n",
      "Epoch 24/40\n",
      "9710/9710 [==============================] - 9s - loss: 0.3278 - acc: 0.9467 - val_loss: 0.4822 - val_acc: 0.8613\n",
      "Epoch 25/40\n",
      "9710/9710 [==============================] - 9s - loss: 0.2927 - acc: 0.9560 - val_loss: 0.4862 - val_acc: 0.8535\n",
      "Epoch 26/40\n",
      "9710/9710 [==============================] - 9s - loss: 0.2723 - acc: 0.9577 - val_loss: 0.4555 - val_acc: 0.8633\n",
      "Epoch 27/40\n",
      "9710/9710 [==============================] - 9s - loss: 0.2391 - acc: 0.9671 - val_loss: 0.4527 - val_acc: 0.8535\n",
      "Epoch 28/40\n",
      "9710/9710 [==============================] - 9s - loss: 0.2182 - acc: 0.9688 - val_loss: 0.4570 - val_acc: 0.8496\n",
      "Epoch 29/40\n",
      "9710/9710 [==============================] - 9s - loss: 0.1967 - acc: 0.9731 - val_loss: 0.4459 - val_acc: 0.8574\n",
      "Epoch 30/40\n",
      "9710/9710 [==============================] - 9s - loss: 0.1871 - acc: 0.9769 - val_loss: 0.4487 - val_acc: 0.8555\n",
      "Epoch 31/40\n",
      "9710/9710 [==============================] - 9s - loss: 0.1657 - acc: 0.9816 - val_loss: 0.4491 - val_acc: 0.8535\n",
      "Epoch 32/40\n",
      "9710/9710 [==============================] - 9s - loss: 0.1509 - acc: 0.9855 - val_loss: 0.4496 - val_acc: 0.8457\n",
      "Epoch 33/40\n",
      "9710/9710 [==============================] - 9s - loss: 0.1393 - acc: 0.9865 - val_loss: 0.4488 - val_acc: 0.8477\n",
      "Epoch 34/40\n",
      "9710/9710 [==============================] - 9s - loss: 0.1292 - acc: 0.9864 - val_loss: 0.4601 - val_acc: 0.8457\n",
      "Epoch 35/40\n",
      "9710/9710 [==============================] - 9s - loss: 0.1170 - acc: 0.9900 - val_loss: 0.4487 - val_acc: 0.8613\n",
      "Epoch 36/40\n",
      "9710/9710 [==============================] - 9s - loss: 0.1073 - acc: 0.9902 - val_loss: 0.4482 - val_acc: 0.8496\n",
      "Epoch 37/40\n",
      "9710/9710 [==============================] - 9s - loss: 0.1012 - acc: 0.9921 - val_loss: 0.4519 - val_acc: 0.8535\n",
      "Epoch 38/40\n",
      "9710/9710 [==============================] - 9s - loss: 0.0903 - acc: 0.9941 - val_loss: 0.4657 - val_acc: 0.8496\n",
      "Epoch 39/40\n",
      "9710/9710 [==============================] - 9s - loss: 0.0842 - acc: 0.9952 - val_loss: 0.4714 - val_acc: 0.8477\n",
      "Epoch 40/40\n",
      "9710/9710 [==============================] - 9s - loss: 0.0754 - acc: 0.9960 - val_loss: 0.4779 - val_acc: 0.8516\n"
     ]
    }
   ],
   "source": [
    "hist = model.fit(x_train, y_train,\n",
    "                 batch_size=128,\n",
    "                 epochs=40, #Increase this when not on Kaggle kernel\n",
    "                 verbose=1,  #1 for ETA, 0 for silent\n",
    "                 validation_data=(x_val, y_val), \n",
    "                 callbacks=[tensorBoard])"
   ]
  },
  {
   "cell_type": "code",
   "execution_count": 11,
   "metadata": {},
   "outputs": [
    {
     "name": "stdout",
     "output_type": "stream",
     "text": [
      "352/512 [===================>..........] - ETA: 0sFinal loss: 0.4779, final accuracy: 0.8516\n"
     ]
    }
   ],
   "source": [
    "final_loss, final_acc = model.evaluate(x_val, y_val, verbose=1)\n",
    "print(\"Final loss: {0:.4f}, final accuracy: {1:.4f}\".format(final_loss, final_acc))"
   ]
  },
  {
   "cell_type": "code",
   "execution_count": 12,
   "metadata": {},
   "outputs": [
    {
     "data": {
      "image/png": "[encoded data removed]",
      "text/plain": [
       "<matplotlib.figure.Figure at 0x1a8000d438>"
      ]
     },
     "metadata": {},
     "output_type": "display_data"
    },
    {
     "data": {
      "image/png": "[encoded data removed]",
      "text/plain": [
       "<matplotlib.figure.Figure at 0x1a9125a320>"
      ]
     },
     "metadata": {},
     "output_type": "display_data"
    }
   ],
   "source": [
    "import matplotlib.pyplot as plt\n",
    "%matplotlib inline\n",
    "\n",
    "plt.plot(hist.history['loss'], color='b')\n",
    "plt.plot(hist.history['val_loss'], color='r')\n",
    "plt.show()\n",
    "plt.plot(hist.history['acc'], color='b')\n",
    "plt.plot(hist.history['val_acc'], color='r')\n",
    "plt.show()"
   ]
  },
  {
   "cell_type": "code",
   "execution_count": 13,
   "metadata": {},
   "outputs": [
    {
     "name": "stdout",
     "output_type": "stream",
     "text": [
      "Dog_Breed_Identification_Train_20171028_220321_0851\n"
     ]
    }
   ],
   "source": [
    "run_name0 = run_name + '_' + str(int(final_acc*1000)).zfill(4)\n",
    "print(run_name0)"
   ]
  },
  {
   "cell_type": "code",
   "execution_count": 14,
   "metadata": {},
   "outputs": [],
   "source": [
    "def saveModel(model, run_name):\n",
    "    cwd = os.getcwd()\n",
    "    modelPath = os.path.join(cwd, 'model')\n",
    "    if not os.path.isdir(modelPath):\n",
    "        os.mkdir(modelPath)\n",
    "    weigthsFile = os.path.join(modelPath, run_name + '.h5')\n",
    "    model.save(weigthsFile)\n",
    "saveModel(model, run_name0)"
   ]
  },
  {
   "cell_type": "code",
   "execution_count": null,
   "metadata": {
    "collapsed": true
   },
   "outputs": [],
   "source": []
  },
  {
   "cell_type": "code",
   "execution_count": 15,
   "metadata": {},
   "outputs": [
    {
     "name": "stdout",
     "output_type": "stream",
     "text": [
      "Done !\n"
     ]
    }
   ],
   "source": [
    "print('Done !')"
   ]
  },
  {
   "cell_type": "code",
   "execution_count": null,
   "metadata": {
    "collapsed": true
   },
   "outputs": [],
   "source": []
  }
 ],
 "metadata": {
  "kernelspec": {
   "display_name": "Python 3",
   "language": "python",
   "name": "python3"
  },
  "language_info": {
   "codemirror_mode": {
    "name": "ipython",
    "version": 3
   },
   "file_extension": ".py",
   "mimetype": "text/x-python",
   "name": "python",
   "nbconvert_exporter": "python",
   "pygments_lexer": "ipython3",
   "version": "3.5.4"
  }
 },
 "nbformat": 4,
 "nbformat_minor": 2
}
