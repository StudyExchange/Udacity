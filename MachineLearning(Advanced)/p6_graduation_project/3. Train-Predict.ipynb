{
 "cells": [
  {
   "cell_type": "markdown",
   "metadata": {},
   "source": [
    "# 3. Train-Predict\n",
    "\n",
    "**Result:**\n",
    "- Kaggle score: \n",
    "\n",
    "**Tensorboard**\n",
    "- Input at command: tensorboard --logdir=./log\n",
    "- Input at browser: http://127.0.0.1:6006"
   ]
  },
  {
   "cell_type": "code",
   "execution_count": 1,
   "metadata": {},
   "outputs": [
    {
     "name": "stdout",
     "output_type": "stream",
     "text": [
      "run_name: Dog_Breed_Identification_Train-Predict_20171111_230804\n",
      "log_path: \tE:\\Udacity\\MachineLearning(Advanced)\\p6_graduation_project\\log\n",
      "model_path: \tE:\\Udacity\\MachineLearning(Advanced)\\p6_graduation_project\\model\n",
      "output_path: \tE:\\Udacity\\MachineLearning(Advanced)\\p6_graduation_project\\output\n"
     ]
    }
   ],
   "source": [
    "import time\n",
    "import os\n",
    "import pandas as pd\n",
    "\n",
    "project_name = 'Dog_Breed_Identification'\n",
    "step_name = 'Train-Predict'\n",
    "time_str = time.strftime(\"%Y%m%d_%H%M%S\", time.localtime())\n",
    "run_name = project_name + '_' + step_name + '_' + time_str\n",
    "print('run_name: ' + run_name)\n",
    "\n",
    "cwd = os.getcwd()\n",
    "log_path = os.path.join(cwd, 'log')\n",
    "model_path = os.path.join(cwd, 'model')\n",
    "output_path = os.path.join(cwd, 'output')\n",
    "print('log_path: \\t' + log_path)\n",
    "print('model_path: \\t' + model_path)\n",
    "print('output_path: \\t' + output_path)"
   ]
  },
  {
   "cell_type": "code",
   "execution_count": 2,
   "metadata": {},
   "outputs": [
    {
     "name": "stdout",
     "output_type": "stream",
     "text": [
      "lables amount: 10222\n"
     ]
    },
    {
     "data": {
      "text/html": [
       "<div>\n",
       "<style>\n",
       "    .dataframe thead tr:only-child th {\n",
       "        text-align: right;\n",
       "    }\n",
       "\n",
       "    .dataframe thead th {\n",
       "        text-align: left;\n",
       "    }\n",
       "\n",
       "    .dataframe tbody tr th {\n",
       "        vertical-align: top;\n",
       "    }\n",
       "</style>\n",
       "<table border=\"1\" class=\"dataframe\">\n",
       "  <thead>\n",
       "    <tr style=\"text-align: right;\">\n",
       "      <th></th>\n",
       "      <th>id</th>\n",
       "      <th>breed</th>\n",
       "    </tr>\n",
       "  </thead>\n",
       "  <tbody>\n",
       "    <tr>\n",
       "      <th>0</th>\n",
       "      <td>000bec180eb18c7604dcecc8fe0dba07</td>\n",
       "      <td>boston_bull</td>\n",
       "    </tr>\n",
       "    <tr>\n",
       "      <th>1</th>\n",
       "      <td>001513dfcb2ffafc82cccf4d8bbaba97</td>\n",
       "      <td>dingo</td>\n",
       "    </tr>\n",
       "    <tr>\n",
       "      <th>2</th>\n",
       "      <td>001cdf01b096e06d78e9e5112d419397</td>\n",
       "      <td>pekinese</td>\n",
       "    </tr>\n",
       "    <tr>\n",
       "      <th>3</th>\n",
       "      <td>00214f311d5d2247d5dfe4fe24b2303d</td>\n",
       "      <td>bluetick</td>\n",
       "    </tr>\n",
       "    <tr>\n",
       "      <th>4</th>\n",
       "      <td>0021f9ceb3235effd7fcde7f7538ed62</td>\n",
       "      <td>golden_retriever</td>\n",
       "    </tr>\n",
       "  </tbody>\n",
       "</table>\n",
       "</div>"
      ],
      "text/plain": [
       "                                 id             breed\n",
       "0  000bec180eb18c7604dcecc8fe0dba07       boston_bull\n",
       "1  001513dfcb2ffafc82cccf4d8bbaba97             dingo\n",
       "2  001cdf01b096e06d78e9e5112d419397          pekinese\n",
       "3  00214f311d5d2247d5dfe4fe24b2303d          bluetick\n",
       "4  0021f9ceb3235effd7fcde7f7538ed62  golden_retriever"
      ]
     },
     "execution_count": 2,
     "metadata": {},
     "output_type": "execute_result"
    }
   ],
   "source": [
    "df = pd.read_csv(os.path.join(cwd, 'input', 'labels.csv'))\n",
    "print('lables amount: %d' %len(df))\n",
    "df.head()"
   ]
  },
  {
   "cell_type": "code",
   "execution_count": 3,
   "metadata": {},
   "outputs": [
    {
     "name": "stdout",
     "output_type": "stream",
     "text": [
      "(9710, 7168)\n",
      "(7168,)\n",
      "9710\n",
      "(9710, 7168)\n",
      "512\n",
      "(10357, 7168)\n"
     ]
    }
   ],
   "source": [
    "import h5py\n",
    "import numpy as np\n",
    "from sklearn.utils import shuffle\n",
    "np.random.seed(2017)\n",
    "\n",
    "x_train = []\n",
    "y_train = {}\n",
    "x_val = []\n",
    "y_val = {}\n",
    "x_test = []\n",
    "\n",
    "cwd = os.getcwd()\n",
    "feature_cgg16 = os.path.join(cwd, 'model', 'feature_VGG16_{}.h5'.format(20171105))\n",
    "feature_cgg19 = os.path.join(cwd, 'model', 'feature_VGG19_{}.h5'.format(20171105))\n",
    "feature_resnet50 = os.path.join(cwd, 'model', 'feature_ResNet50_{}.h5'.format(20171105))\n",
    "feature_xception = os.path.join(cwd, 'model', 'feature_Xception_{}.h5'.format(20171105))\n",
    "feature_inception = os.path.join(cwd, 'model', 'feature_InceptionV3_{}.h5'.format(20171105))\n",
    "# feature_inceptionResNetV2 = os.path.join(cwd, 'model', 'feature_InceptionResNetV2_{}.h5'.format(20171028))\n",
    "for filename in [feature_cgg16, feature_cgg19, feature_resnet50, feature_xception, feature_inception]:\n",
    "# for filename in [feature_inception]:\n",
    "    with h5py.File(filename, 'r') as h:\n",
    "        x_train.append(np.array(h['train']))\n",
    "        y_train = np.array(h['train_labels'])\n",
    "        x_val.append(np.array(h['val']))\n",
    "        y_val = np.array(h['val_labels'])\n",
    "        x_test.append(np.array(h['test']))\n",
    "\n",
    "# print(x_train[0].shape)\n",
    "x_train = np.concatenate(x_train, axis=-1)\n",
    "# y_train = np.concatenate(y_train, axis=0)\n",
    "x_val = np.concatenate(x_val, axis=-1)\n",
    "# y_val = np.concatenate(y_val, axis=0)\n",
    "x_test = np.concatenate(x_test, axis=-1)\n",
    "print(x_train.shape)\n",
    "print(x_train.shape[1:])\n",
    "\n",
    "print(len(y_train))\n",
    "print(x_val.shape)\n",
    "print(len(y_val))\n",
    "print(x_test.shape)"
   ]
  },
  {
   "cell_type": "code",
   "execution_count": 4,
   "metadata": {
    "collapsed": true
   },
   "outputs": [],
   "source": [
    "from sklearn.utils import shuffle\n",
    "(x_train, y_train) = shuffle(x_train, y_train)"
   ]
  },
  {
   "cell_type": "code",
   "execution_count": 5,
   "metadata": {},
   "outputs": [
    {
     "name": "stdout",
     "output_type": "stream",
     "text": [
      "(9224, 7168)\n",
      "(9224,)\n",
      "(486, 7168)\n",
      "(486,)\n"
     ]
    }
   ],
   "source": [
    "from sklearn.model_selection import train_test_split\n",
    "x_train, x_val, y_train, y_val = train_test_split(x_train, y_train, test_size=0.05, random_state=5)\n",
    "print(x_train.shape)\n",
    "print(y_train.shape)\n",
    "print(x_val.shape)\n",
    "print(y_val.shape)"
   ]
  },
  {
   "cell_type": "code",
   "execution_count": 6,
   "metadata": {},
   "outputs": [
    {
     "name": "stderr",
     "output_type": "stream",
     "text": [
      "Using TensorFlow backend.\n"
     ]
    },
    {
     "name": "stdout",
     "output_type": "stream",
     "text": [
      "(9224, 120)\n",
      "(486, 120)\n"
     ]
    }
   ],
   "source": [
    "from keras.utils.np_utils import to_categorical\n",
    "\n",
    "y_train = to_categorical(y_train)\n",
    "y_val = to_categorical(y_val)\n",
    "print(y_train.shape)\n",
    "print(y_val.shape)"
   ]
  },
  {
   "cell_type": "markdown",
   "metadata": {},
   "source": [
    "### Build CNN"
   ]
  },
  {
   "cell_type": "code",
   "execution_count": 7,
   "metadata": {
    "collapsed": true
   },
   "outputs": [],
   "source": [
    "from sklearn.metrics import confusion_matrix\n",
    "\n",
    "from keras.utils.np_utils import to_categorical # convert to one-hot-encoding\n",
    "from keras.models import Sequential\n",
    "from keras.layers import Dense, Dropout, Input, Flatten, Conv2D, MaxPooling2D, BatchNormalization\n",
    "from keras.optimizers import Adam\n",
    "from keras.preprocessing.image import ImageDataGenerator\n",
    "from keras.callbacks import LearningRateScheduler, TensorBoard"
   ]
  },
  {
   "cell_type": "code",
   "execution_count": 8,
   "metadata": {},
   "outputs": [
    {
     "name": "stdout",
     "output_type": "stream",
     "text": [
      "log_dir:E:\\Udacity\\MachineLearning(Advanced)\\p6_graduation_project\\log\\Dog_Breed_Identification_Train-Predict_20171111_230804\n"
     ]
    }
   ],
   "source": [
    "def get_lr(x):\n",
    "    lr = round(1e-4 * 0.98 ** x, 6)\n",
    "    if lr < 5e-5:\n",
    "        lr = 5e-5\n",
    "    print(lr, end='  ')\n",
    "    return lr\n",
    "\n",
    "# annealer = LearningRateScheduler(lambda x: 1e-3 * 0.9 ** x)\n",
    "annealer = LearningRateScheduler(get_lr)\n",
    "\n",
    "log_dir = os.path.join(log_path, run_name)\n",
    "print('log_dir:' + log_dir)\n",
    "tensorBoard = TensorBoard(log_dir=log_dir)"
   ]
  },
  {
   "cell_type": "code",
   "execution_count": 9,
   "metadata": {
    "collapsed": true
   },
   "outputs": [],
   "source": [
    "model = Sequential()\n",
    "model.add(Dense(8196, input_shape=x_train.shape[1:]))\n",
    "model.add(Dropout(0.5))\n",
    "model.add(Dense(8196, activation='sigmoid'))\n",
    "model.add(Dropout(0.5))\n",
    "model.add(Dense(8196, activation='sigmoid'))\n",
    "model.add(Dropout(0.5))\n",
    "model.add(Dense(1024, activation='sigmoid'))\n",
    "model.add(Dropout(0.5))\n",
    "model.add(Dense(120, activation='softmax'))\n",
    "\n",
    "model.compile(optimizer=Adam(lr=1e-4),\n",
    "              loss='categorical_crossentropy',\n",
    "              metrics=['accuracy'])"
   ]
  },
  {
   "cell_type": "code",
   "execution_count": 10,
   "metadata": {},
   "outputs": [
    {
     "name": "stdout",
     "output_type": "stream",
     "text": [
      "Train on 9224 samples, validate on 486 samples\n",
      "0.0001  Epoch 1/200\n",
      "9224/9224 [==============================] - 3s - loss: 5.0165 - acc: 0.0081 - val_loss: 4.7593 - val_acc: 0.0062\n",
      "9.8e-05  Epoch 2/200\n",
      "9224/9224 [==============================] - 3s - loss: 4.8245 - acc: 0.0138 - val_loss: 4.7012 - val_acc: 0.0226\n",
      "9.6e-05  Epoch 3/200\n",
      "9224/9224 [==============================] - 3s - loss: 4.7552 - acc: 0.0159 - val_loss: 4.6461 - val_acc: 0.0123\n",
      "9.4e-05  Epoch 4/200\n",
      "9224/9224 [==============================] - 3s - loss: 4.6943 - acc: 0.0217 - val_loss: 4.5740 - val_acc: 0.0391\n",
      "9.2e-05  Epoch 5/200\n",
      "9224/9224 [==============================] - 3s - loss: 4.6106 - acc: 0.0334 - val_loss: 4.4513 - val_acc: 0.1008\n",
      "9e-05  Epoch 6/200\n",
      "9224/9224 [==============================] - 3s - loss: 4.5023 - acc: 0.0461 - val_loss: 4.3099 - val_acc: 0.0864\n",
      "8.9e-05  Epoch 7/200\n",
      "9224/9224 [==============================] - 3s - loss: 4.3842 - acc: 0.0540 - val_loss: 4.1556 - val_acc: 0.0905\n",
      "8.7e-05  Epoch 8/200\n",
      "9224/9224 [==============================] - 3s - loss: 4.2554 - acc: 0.0642 - val_loss: 4.0205 - val_acc: 0.0967\n",
      "8.5e-05  Epoch 9/200\n",
      "9224/9224 [==============================] - 3s - loss: 4.1225 - acc: 0.0812 - val_loss: 3.8677 - val_acc: 0.1461\n",
      "8.3e-05  Epoch 10/200\n",
      "9224/9224 [==============================] - 3s - loss: 3.9888 - acc: 0.0979 - val_loss: 3.6997 - val_acc: 0.1481\n",
      "8.2e-05  Epoch 11/200\n",
      "9224/9224 [==============================] - 3s - loss: 3.8496 - acc: 0.1117 - val_loss: 3.5692 - val_acc: 0.1934\n",
      "8e-05  Epoch 12/200\n",
      "9224/9224 [==============================] - 3s - loss: 3.7267 - acc: 0.1291 - val_loss: 3.4326 - val_acc: 0.2037\n",
      "7.8e-05  Epoch 13/200\n",
      "9224/9224 [==============================] - 3s - loss: 3.6213 - acc: 0.1480 - val_loss: 3.3340 - val_acc: 0.2078\n",
      "7.7e-05  Epoch 14/200\n",
      "9224/9224 [==============================] - 3s - loss: 3.5075 - acc: 0.1580 - val_loss: 3.2004 - val_acc: 0.2469\n",
      "7.5e-05  Epoch 15/200\n",
      "9224/9224 [==============================] - 3s - loss: 3.4006 - acc: 0.1771 - val_loss: 3.0885 - val_acc: 0.2922\n",
      "7.4e-05  Epoch 16/200\n",
      "9224/9224 [==============================] - 3s - loss: 3.2993 - acc: 0.1928 - val_loss: 2.9916 - val_acc: 0.2963\n",
      "7.2e-05  Epoch 17/200\n",
      "9224/9224 [==============================] - 3s - loss: 3.2068 - acc: 0.2087 - val_loss: 2.9149 - val_acc: 0.2881\n",
      "7.1e-05  Epoch 18/200\n",
      "9224/9224 [==============================] - 3s - loss: 3.1274 - acc: 0.2278 - val_loss: 2.8211 - val_acc: 0.3251\n",
      "7e-05  Epoch 19/200\n",
      "9224/9224 [==============================] - 3s - loss: 3.0477 - acc: 0.2483 - val_loss: 2.7481 - val_acc: 0.3436\n",
      "6.8e-05  Epoch 20/200\n",
      "9224/9224 [==============================] - 3s - loss: 2.9613 - acc: 0.2520 - val_loss: 2.6715 - val_acc: 0.3313\n",
      "6.7e-05  Epoch 21/200\n",
      "9224/9224 [==============================] - 3s - loss: 2.8930 - acc: 0.2665 - val_loss: 2.5988 - val_acc: 0.3868\n",
      "6.5e-05  Epoch 22/200\n",
      "9224/9224 [==============================] - 3s - loss: 2.8383 - acc: 0.2729 - val_loss: 2.5241 - val_acc: 0.4177\n",
      "6.4e-05  Epoch 23/200\n",
      "9224/9224 [==============================] - 3s - loss: 2.7701 - acc: 0.2913 - val_loss: 2.4496 - val_acc: 0.4095\n",
      "6.3e-05  Epoch 24/200\n",
      "9224/9224 [==============================] - 3s - loss: 2.6941 - acc: 0.3139 - val_loss: 2.3865 - val_acc: 0.4733\n",
      "6.2e-05  Epoch 25/200\n",
      "9224/9224 [==============================] - 3s - loss: 2.6352 - acc: 0.3313 - val_loss: 2.3404 - val_acc: 0.4691\n",
      "6e-05  Epoch 26/200\n",
      "9224/9224 [==============================] - 3s - loss: 2.5786 - acc: 0.3324 - val_loss: 2.3008 - val_acc: 0.4774\n",
      "5.9e-05  Epoch 27/200\n",
      "9224/9224 [==============================] - 3s - loss: 2.5045 - acc: 0.3549 - val_loss: 2.2178 - val_acc: 0.5082\n",
      "5.8e-05  Epoch 28/200\n",
      "9224/9224 [==============================] - 3s - loss: 2.4763 - acc: 0.3570 - val_loss: 2.1686 - val_acc: 0.4938\n",
      "5.7e-05  Epoch 29/200\n",
      "9224/9224 [==============================] - 3s - loss: 2.4166 - acc: 0.3720 - val_loss: 2.1256 - val_acc: 0.5082\n",
      "5.6e-05  Epoch 30/200\n",
      "9224/9224 [==============================] - 3s - loss: 2.3636 - acc: 0.3832 - val_loss: 2.0840 - val_acc: 0.5062\n",
      "5.5e-05  Epoch 31/200\n",
      "9224/9224 [==============================] - 3s - loss: 2.3205 - acc: 0.3948 - val_loss: 2.0312 - val_acc: 0.5350\n",
      "5.3e-05  Epoch 32/200\n",
      "9224/9224 [==============================] - 3s - loss: 2.2718 - acc: 0.4052 - val_loss: 2.0012 - val_acc: 0.5144\n",
      "5.2e-05  Epoch 33/200\n",
      "9224/9224 [==============================] - 3s - loss: 2.2265 - acc: 0.4144 - val_loss: 1.9461 - val_acc: 0.5617\n",
      "5.1e-05  Epoch 34/200\n",
      "9224/9224 [==============================] - 3s - loss: 2.1911 - acc: 0.4310 - val_loss: 1.9053 - val_acc: 0.5679\n",
      "5e-05  Epoch 35/200\n",
      "9224/9224 [==============================] - 3s - loss: 2.1483 - acc: 0.4408 - val_loss: 1.8845 - val_acc: 0.5535\n",
      "5e-05  Epoch 36/200\n",
      "9224/9224 [==============================] - 3s - loss: 2.1196 - acc: 0.4467 - val_loss: 1.8612 - val_acc: 0.5679\n",
      "5e-05  Epoch 37/200\n",
      "9224/9224 [==============================] - 3s - loss: 2.0753 - acc: 0.4629 - val_loss: 1.8362 - val_acc: 0.5947\n",
      "5e-05  Epoch 38/200\n",
      "9224/9224 [==============================] - 3s - loss: 2.0429 - acc: 0.4732 - val_loss: 1.7999 - val_acc: 0.5782\n",
      "5e-05  Epoch 39/200\n",
      "9224/9224 [==============================] - 3s - loss: 1.9986 - acc: 0.4831 - val_loss: 1.7709 - val_acc: 0.5823\n",
      "5e-05  Epoch 40/200\n",
      "9224/9224 [==============================] - 3s - loss: 1.9609 - acc: 0.4907 - val_loss: 1.7436 - val_acc: 0.5823\n",
      "5e-05  Epoch 41/200\n",
      "9224/9224 [==============================] - 3s - loss: 1.9350 - acc: 0.4971 - val_loss: 1.6918 - val_acc: 0.6029\n",
      "5e-05  Epoch 42/200\n",
      "9224/9224 [==============================] - 3s - loss: 1.9009 - acc: 0.5041 - val_loss: 1.6575 - val_acc: 0.6152\n",
      "5e-05  Epoch 43/200\n",
      "9224/9224 [==============================] - 3s - loss: 1.8651 - acc: 0.5215 - val_loss: 1.6441 - val_acc: 0.6111\n",
      "5e-05  Epoch 44/200\n",
      "9224/9224 [==============================] - 3s - loss: 1.8343 - acc: 0.5168 - val_loss: 1.6071 - val_acc: 0.6214\n",
      "5e-05  Epoch 45/200\n",
      "9224/9224 [==============================] - 3s - loss: 1.8169 - acc: 0.5236 - val_loss: 1.5864 - val_acc: 0.6193\n",
      "5e-05  Epoch 46/200\n",
      "9224/9224 [==============================] - 3s - loss: 1.7877 - acc: 0.5331 - val_loss: 1.5650 - val_acc: 0.6255\n",
      "5e-05  Epoch 47/200\n",
      "9224/9224 [==============================] - 3s - loss: 1.7460 - acc: 0.5506 - val_loss: 1.5373 - val_acc: 0.6337\n",
      "5e-05  Epoch 48/200\n",
      "9224/9224 [==============================] - 3s - loss: 1.7166 - acc: 0.5534 - val_loss: 1.5240 - val_acc: 0.6461\n",
      "5e-05  Epoch 49/200\n",
      "9224/9224 [==============================] - 3s - loss: 1.6916 - acc: 0.5605 - val_loss: 1.4918 - val_acc: 0.6543\n",
      "5e-05  Epoch 50/200\n",
      "9224/9224 [==============================] - 3s - loss: 1.6580 - acc: 0.5711 - val_loss: 1.4568 - val_acc: 0.6543\n",
      "5e-05  Epoch 51/200\n",
      "9224/9224 [==============================] - 3s - loss: 1.6243 - acc: 0.5810 - val_loss: 1.4382 - val_acc: 0.6379\n",
      "5e-05  Epoch 52/200\n",
      "9224/9224 [==============================] - 3s - loss: 1.6073 - acc: 0.5889 - val_loss: 1.4210 - val_acc: 0.6420\n",
      "5e-05  Epoch 53/200\n",
      "9224/9224 [==============================] - 3s - loss: 1.5772 - acc: 0.5917 - val_loss: 1.4088 - val_acc: 0.6646\n",
      "5e-05  Epoch 54/200\n",
      "9224/9224 [==============================] - 3s - loss: 1.5592 - acc: 0.5976 - val_loss: 1.3842 - val_acc: 0.6646\n",
      "5e-05  Epoch 55/200\n",
      "9224/9224 [==============================] - 3s - loss: 1.5361 - acc: 0.5988 - val_loss: 1.3535 - val_acc: 0.6728\n",
      "5e-05  Epoch 56/200\n",
      "9224/9224 [==============================] - 3s - loss: 1.5013 - acc: 0.6183 - val_loss: 1.3447 - val_acc: 0.6770\n",
      "5e-05  Epoch 57/200\n",
      "9224/9224 [==============================] - 3s - loss: 1.4831 - acc: 0.6221 - val_loss: 1.3101 - val_acc: 0.6852\n",
      "5e-05  Epoch 58/200\n",
      "9224/9224 [==============================] - 3s - loss: 1.4430 - acc: 0.6361 - val_loss: 1.2776 - val_acc: 0.6975\n",
      "5e-05  Epoch 59/200\n",
      "9224/9224 [==============================] - 3s - loss: 1.4279 - acc: 0.6392 - val_loss: 1.2630 - val_acc: 0.6934\n",
      "5e-05  Epoch 60/200\n",
      "9224/9224 [==============================] - 3s - loss: 1.4249 - acc: 0.6309 - val_loss: 1.2453 - val_acc: 0.7037\n",
      "5e-05  Epoch 61/200\n"
     ]
    },
    {
     "name": "stdout",
     "output_type": "stream",
     "text": [
      "9224/9224 [==============================] - 3s - loss: 1.3926 - acc: 0.6587 - val_loss: 1.2332 - val_acc: 0.7058\n",
      "5e-05  Epoch 62/200\n",
      "9224/9224 [==============================] - 3s - loss: 1.3738 - acc: 0.6599 - val_loss: 1.2308 - val_acc: 0.6955\n",
      "5e-05  Epoch 63/200\n",
      "9224/9224 [==============================] - 3s - loss: 1.3648 - acc: 0.6512 - val_loss: 1.1950 - val_acc: 0.6975\n",
      "5e-05  Epoch 64/200\n",
      "9224/9224 [==============================] - 3s - loss: 1.3314 - acc: 0.6660 - val_loss: 1.1892 - val_acc: 0.7202\n",
      "5e-05  Epoch 65/200\n",
      "9224/9224 [==============================] - 3s - loss: 1.3114 - acc: 0.6671 - val_loss: 1.1678 - val_acc: 0.7263\n",
      "5e-05  Epoch 66/200\n",
      "9224/9224 [==============================] - 3s - loss: 1.2942 - acc: 0.6773 - val_loss: 1.1536 - val_acc: 0.7325\n",
      "5e-05  Epoch 67/200\n",
      "9224/9224 [==============================] - 3s - loss: 1.2773 - acc: 0.6751 - val_loss: 1.1282 - val_acc: 0.7387\n",
      "5e-05  Epoch 68/200\n",
      "9224/9224 [==============================] - 3s - loss: 1.2446 - acc: 0.6919 - val_loss: 1.1342 - val_acc: 0.7305\n",
      "5e-05  Epoch 69/200\n",
      "9224/9224 [==============================] - 3s - loss: 1.2556 - acc: 0.6776 - val_loss: 1.0987 - val_acc: 0.7243\n",
      "5e-05  Epoch 70/200\n",
      "9224/9224 [==============================] - 3s - loss: 1.2095 - acc: 0.7016 - val_loss: 1.0872 - val_acc: 0.7202\n",
      "5e-05  Epoch 71/200\n",
      "9224/9224 [==============================] - 3s - loss: 1.2028 - acc: 0.6981 - val_loss: 1.0914 - val_acc: 0.7346\n",
      "5e-05  Epoch 72/200\n",
      "9224/9224 [==============================] - 3s - loss: 1.1792 - acc: 0.7059 - val_loss: 1.0654 - val_acc: 0.7305\n",
      "5e-05  Epoch 73/200\n",
      "9224/9224 [==============================] - 3s - loss: 1.1527 - acc: 0.7116 - val_loss: 1.0598 - val_acc: 0.7407\n",
      "5e-05  Epoch 74/200\n",
      "9224/9224 [==============================] - 3s - loss: 1.1566 - acc: 0.7132 - val_loss: 1.0579 - val_acc: 0.7551\n",
      "5e-05  Epoch 75/200\n",
      "9224/9224 [==============================] - 3s - loss: 1.1378 - acc: 0.7221 - val_loss: 1.0414 - val_acc: 0.7531\n",
      "5e-05  Epoch 76/200\n",
      "9224/9224 [==============================] - 3s - loss: 1.1234 - acc: 0.7259 - val_loss: 1.0211 - val_acc: 0.7551\n",
      "5e-05  Epoch 77/200\n",
      "9224/9224 [==============================] - 3s - loss: 1.1078 - acc: 0.7231 - val_loss: 1.0231 - val_acc: 0.7551\n",
      "5e-05  Epoch 78/200\n",
      "9224/9224 [==============================] - 3s - loss: 1.0879 - acc: 0.7327 - val_loss: 1.0150 - val_acc: 0.7510\n",
      "5e-05  Epoch 79/200\n",
      "9224/9224 [==============================] - 3s - loss: 1.0673 - acc: 0.7400 - val_loss: 0.9670 - val_acc: 0.7695\n",
      "5e-05  Epoch 80/200\n",
      "9224/9224 [==============================] - 3s - loss: 1.0582 - acc: 0.7380 - val_loss: 0.9809 - val_acc: 0.7675\n",
      "5e-05  Epoch 81/200\n",
      "9224/9224 [==============================] - 3s - loss: 1.0312 - acc: 0.7480 - val_loss: 0.9471 - val_acc: 0.7757\n",
      "5e-05  Epoch 82/200\n",
      "9224/9224 [==============================] - 3s - loss: 1.0226 - acc: 0.7557 - val_loss: 0.9589 - val_acc: 0.7634\n",
      "5e-05  Epoch 83/200\n",
      "9224/9224 [==============================] - 3s - loss: 1.0227 - acc: 0.7501 - val_loss: 0.9323 - val_acc: 0.7798\n",
      "5e-05  Epoch 84/200\n",
      "9224/9224 [==============================] - 3s - loss: 1.0169 - acc: 0.7503 - val_loss: 0.9208 - val_acc: 0.7819\n",
      "5e-05  Epoch 85/200\n",
      "9224/9224 [==============================] - 3s - loss: 1.0121 - acc: 0.7502 - val_loss: 0.9396 - val_acc: 0.7613\n",
      "5e-05  Epoch 86/200\n",
      "9224/9224 [==============================] - 3s - loss: 0.9697 - acc: 0.7669 - val_loss: 0.9010 - val_acc: 0.7840\n",
      "5e-05  Epoch 87/200\n",
      "9224/9224 [==============================] - 3s - loss: 0.9532 - acc: 0.7683 - val_loss: 0.8920 - val_acc: 0.7757\n",
      "5e-05  Epoch 88/200\n",
      "9224/9224 [==============================] - 3s - loss: 0.9620 - acc: 0.7682 - val_loss: 0.8847 - val_acc: 0.7737\n",
      "5e-05  Epoch 89/200\n",
      "9224/9224 [==============================] - 3s - loss: 0.9338 - acc: 0.7698 - val_loss: 0.9271 - val_acc: 0.7593\n",
      "5e-05  Epoch 90/200\n",
      "9224/9224 [==============================] - 3s - loss: 0.9586 - acc: 0.7605 - val_loss: 0.8610 - val_acc: 0.7840\n",
      "5e-05  Epoch 91/200\n",
      "9224/9224 [==============================] - 3s - loss: 0.9354 - acc: 0.7686 - val_loss: 0.8676 - val_acc: 0.7819\n",
      "5e-05  Epoch 92/200\n",
      "9224/9224 [==============================] - 3s - loss: 0.9058 - acc: 0.7786 - val_loss: 0.8683 - val_acc: 0.7593\n",
      "5e-05  Epoch 93/200\n",
      "9224/9224 [==============================] - 3s - loss: 0.8798 - acc: 0.7895 - val_loss: 0.8582 - val_acc: 0.7675\n",
      "5e-05  Epoch 94/200\n",
      "9224/9224 [==============================] - 3s - loss: 0.8749 - acc: 0.7885 - val_loss: 0.8418 - val_acc: 0.7675\n",
      "5e-05  Epoch 95/200\n",
      "9224/9224 [==============================] - 3s - loss: 0.8712 - acc: 0.7821 - val_loss: 0.8568 - val_acc: 0.7737\n",
      "5e-05  Epoch 96/200\n",
      "9224/9224 [==============================] - 3s - loss: 0.8711 - acc: 0.7903 - val_loss: 0.8375 - val_acc: 0.7778\n",
      "5e-05  Epoch 97/200\n",
      "9224/9224 [==============================] - 3s - loss: 0.8474 - acc: 0.7979 - val_loss: 0.8111 - val_acc: 0.7819\n",
      "5e-05  Epoch 98/200\n",
      "9224/9224 [==============================] - 3s - loss: 0.8277 - acc: 0.8032 - val_loss: 0.8091 - val_acc: 0.7798\n",
      "5e-05  Epoch 99/200\n",
      "9224/9224 [==============================] - 3s - loss: 0.8405 - acc: 0.7941 - val_loss: 0.8361 - val_acc: 0.7757\n",
      "5e-05  Epoch 100/200\n",
      "9224/9224 [==============================] - 3s - loss: 0.8292 - acc: 0.7985 - val_loss: 0.8003 - val_acc: 0.7778\n",
      "5e-05  Epoch 101/200\n",
      "9224/9224 [==============================] - 3s - loss: 0.8120 - acc: 0.8034 - val_loss: 0.7951 - val_acc: 0.7819\n",
      "5e-05  Epoch 102/200\n",
      "9224/9224 [==============================] - 3s - loss: 0.7985 - acc: 0.8046 - val_loss: 0.7839 - val_acc: 0.7901\n",
      "5e-05  Epoch 103/200\n",
      "9224/9224 [==============================] - 3s - loss: 0.8000 - acc: 0.8056 - val_loss: 0.7864 - val_acc: 0.7984\n",
      "5e-05  Epoch 104/200\n",
      "9224/9224 [==============================] - 3s - loss: 0.7754 - acc: 0.8113 - val_loss: 0.7641 - val_acc: 0.7984\n",
      "5e-05  Epoch 105/200\n",
      "9224/9224 [==============================] - 3s - loss: 0.7824 - acc: 0.8120 - val_loss: 0.7831 - val_acc: 0.7901\n",
      "5e-05  Epoch 106/200\n",
      "9224/9224 [==============================] - 3s - loss: 0.7811 - acc: 0.8103 - val_loss: 0.7699 - val_acc: 0.7922\n",
      "5e-05  Epoch 107/200\n",
      "9224/9224 [==============================] - 3s - loss: 0.7668 - acc: 0.8133 - val_loss: 0.7598 - val_acc: 0.7942\n",
      "5e-05  Epoch 108/200\n",
      "9224/9224 [==============================] - 3s - loss: 0.7411 - acc: 0.8209 - val_loss: 0.7472 - val_acc: 0.7922\n",
      "5e-05  Epoch 109/200\n",
      "9224/9224 [==============================] - 3s - loss: 0.7500 - acc: 0.8184 - val_loss: 0.7657 - val_acc: 0.7901\n",
      "5e-05  Epoch 110/200\n",
      "9224/9224 [==============================] - 3s - loss: 0.7318 - acc: 0.8207 - val_loss: 0.7350 - val_acc: 0.8045\n",
      "5e-05  Epoch 111/200\n",
      "9224/9224 [==============================] - 3s - loss: 0.7180 - acc: 0.8325 - val_loss: 0.7164 - val_acc: 0.8045\n",
      "5e-05  Epoch 112/200\n",
      "9224/9224 [==============================] - 3s - loss: 0.6987 - acc: 0.8362 - val_loss: 0.7145 - val_acc: 0.8086\n",
      "5e-05  Epoch 113/200\n",
      "9224/9224 [==============================] - 3s - loss: 0.7023 - acc: 0.8327 - val_loss: 0.7425 - val_acc: 0.7819\n",
      "5e-05  Epoch 114/200\n",
      "9224/9224 [==============================] - 3s - loss: 0.6879 - acc: 0.8380 - val_loss: 0.7185 - val_acc: 0.7901\n",
      "5e-05  Epoch 115/200\n",
      "9224/9224 [==============================] - 3s - loss: 0.6834 - acc: 0.8405 - val_loss: 0.7052 - val_acc: 0.7922\n",
      "5e-05  Epoch 116/200\n",
      "9224/9224 [==============================] - 3s - loss: 0.6635 - acc: 0.8395 - val_loss: 0.6943 - val_acc: 0.8025\n",
      "5e-05  Epoch 117/200\n",
      "9224/9224 [==============================] - 3s - loss: 0.6541 - acc: 0.8468 - val_loss: 0.7075 - val_acc: 0.7942\n",
      "5e-05  Epoch 118/200\n",
      "9224/9224 [==============================] - 3s - loss: 0.6519 - acc: 0.8464 - val_loss: 0.6935 - val_acc: 0.8189\n",
      "5e-05  Epoch 119/200\n",
      "9224/9224 [==============================] - 3s - loss: 0.6405 - acc: 0.8464 - val_loss: 0.6832 - val_acc: 0.8086\n",
      "5e-05  Epoch 120/200\n",
      "9224/9224 [==============================] - 3s - loss: 0.6323 - acc: 0.8542 - val_loss: 0.6730 - val_acc: 0.8230\n",
      "5e-05  Epoch 121/200\n",
      "9224/9224 [==============================] - 3s - loss: 0.6267 - acc: 0.8522 - val_loss: 0.6744 - val_acc: 0.8066\n",
      "5e-05  Epoch 122/200\n"
     ]
    },
    {
     "name": "stdout",
     "output_type": "stream",
     "text": [
      "9224/9224 [==============================] - 3s - loss: 0.6210 - acc: 0.8557 - val_loss: 0.6867 - val_acc: 0.8004\n",
      "5e-05  Epoch 123/200\n",
      "9224/9224 [==============================] - 3s - loss: 0.6208 - acc: 0.8560 - val_loss: 0.6673 - val_acc: 0.8128\n",
      "5e-05  Epoch 124/200\n",
      "9224/9224 [==============================] - 3s - loss: 0.6130 - acc: 0.8570 - val_loss: 0.6746 - val_acc: 0.8066\n",
      "5e-05  Epoch 125/200\n",
      "9224/9224 [==============================] - 3s - loss: 0.6033 - acc: 0.8546 - val_loss: 0.6618 - val_acc: 0.8230\n",
      "5e-05  Epoch 126/200\n",
      "9224/9224 [==============================] - 3s - loss: 0.6056 - acc: 0.8565 - val_loss: 0.6841 - val_acc: 0.7963\n",
      "5e-05  Epoch 127/200\n",
      "9224/9224 [==============================] - 3s - loss: 0.5973 - acc: 0.8620 - val_loss: 0.6885 - val_acc: 0.8107\n",
      "5e-05  Epoch 128/200\n",
      "9224/9224 [==============================] - 3s - loss: 0.5973 - acc: 0.8631 - val_loss: 0.6489 - val_acc: 0.8251\n",
      "5e-05  Epoch 129/200\n",
      "9224/9224 [==============================] - 3s - loss: 0.5950 - acc: 0.8594 - val_loss: 0.6346 - val_acc: 0.8313\n",
      "5e-05  Epoch 130/200\n",
      "9224/9224 [==============================] - 3s - loss: 0.5925 - acc: 0.8606 - val_loss: 0.6449 - val_acc: 0.8333\n",
      "5e-05  Epoch 131/200\n",
      "9224/9224 [==============================] - 3s - loss: 0.5782 - acc: 0.8638 - val_loss: 0.6664 - val_acc: 0.8148\n",
      "5e-05  Epoch 132/200\n",
      "9224/9224 [==============================] - 3s - loss: 0.5669 - acc: 0.8644 - val_loss: 0.6510 - val_acc: 0.8148\n",
      "5e-05  Epoch 133/200\n",
      "9224/9224 [==============================] - 3s - loss: 0.5786 - acc: 0.8624 - val_loss: 0.6720 - val_acc: 0.8066\n",
      "5e-05  Epoch 134/200\n",
      "9224/9224 [==============================] - 3s - loss: 0.5587 - acc: 0.8716 - val_loss: 0.6471 - val_acc: 0.8128\n",
      "5e-05  Epoch 135/200\n",
      "9224/9224 [==============================] - 3s - loss: 0.5448 - acc: 0.8760 - val_loss: 0.6263 - val_acc: 0.8374\n",
      "5e-05  Epoch 136/200\n",
      "9224/9224 [==============================] - 3s - loss: 0.5418 - acc: 0.8780 - val_loss: 0.6279 - val_acc: 0.8272\n",
      "5e-05  Epoch 137/200\n",
      "9224/9224 [==============================] - 3s - loss: 0.5288 - acc: 0.8778 - val_loss: 0.6276 - val_acc: 0.8210\n",
      "5e-05  Epoch 138/200\n",
      "9224/9224 [==============================] - 3s - loss: 0.5324 - acc: 0.8763 - val_loss: 0.6145 - val_acc: 0.8272\n",
      "5e-05  Epoch 139/200\n",
      "9224/9224 [==============================] - 3s - loss: 0.5165 - acc: 0.8816 - val_loss: 0.6149 - val_acc: 0.8230\n",
      "5e-05  Epoch 140/200\n",
      "9224/9224 [==============================] - 3s - loss: 0.5113 - acc: 0.8856 - val_loss: 0.6001 - val_acc: 0.8374\n",
      "5e-05  Epoch 141/200\n",
      "9224/9224 [==============================] - 3s - loss: 0.5042 - acc: 0.8828 - val_loss: 0.6069 - val_acc: 0.8354\n",
      "5e-05  Epoch 142/200\n",
      "9224/9224 [==============================] - 3s - loss: 0.5102 - acc: 0.8823 - val_loss: 0.6157 - val_acc: 0.8230\n",
      "5e-05  Epoch 143/200\n",
      "9224/9224 [==============================] - 3s - loss: 0.5077 - acc: 0.8856 - val_loss: 0.6223 - val_acc: 0.8272\n",
      "5e-05  Epoch 144/200\n",
      "9224/9224 [==============================] - 3s - loss: 0.5031 - acc: 0.8874 - val_loss: 0.6081 - val_acc: 0.8313\n",
      "5e-05  Epoch 145/200\n",
      "9224/9224 [==============================] - 3s - loss: 0.4853 - acc: 0.8890 - val_loss: 0.6133 - val_acc: 0.8272\n",
      "5e-05  Epoch 146/200\n",
      "9224/9224 [==============================] - 3s - loss: 0.4889 - acc: 0.8859 - val_loss: 0.6295 - val_acc: 0.8210\n",
      "5e-05  Epoch 147/200\n",
      "9224/9224 [==============================] - 3s - loss: 0.4831 - acc: 0.8873 - val_loss: 0.6020 - val_acc: 0.8313\n",
      "5e-05  Epoch 148/200\n",
      "9224/9224 [==============================] - 3s - loss: 0.4817 - acc: 0.8886 - val_loss: 0.6141 - val_acc: 0.8230\n",
      "5e-05  Epoch 149/200\n",
      "9224/9224 [==============================] - 3s - loss: 0.5005 - acc: 0.8876 - val_loss: 0.6325 - val_acc: 0.8148\n",
      "5e-05  Epoch 150/200\n",
      "9224/9224 [==============================] - 3s - loss: 0.4828 - acc: 0.8895 - val_loss: 0.6089 - val_acc: 0.8210\n",
      "5e-05  Epoch 151/200\n",
      "9224/9224 [==============================] - 3s - loss: 0.4699 - acc: 0.8926 - val_loss: 0.5930 - val_acc: 0.8189\n",
      "5e-05  Epoch 152/200\n",
      "9224/9224 [==============================] - 3s - loss: 0.4650 - acc: 0.8935 - val_loss: 0.5862 - val_acc: 0.8292\n",
      "5e-05  Epoch 153/200\n",
      "9224/9224 [==============================] - 3s - loss: 0.4715 - acc: 0.8935 - val_loss: 0.6147 - val_acc: 0.8169\n",
      "5e-05  Epoch 154/200\n",
      "9224/9224 [==============================] - 3s - loss: 0.4673 - acc: 0.8948 - val_loss: 0.5888 - val_acc: 0.8292\n",
      "5e-05  Epoch 155/200\n",
      "9224/9224 [==============================] - 3s - loss: 0.4552 - acc: 0.9008 - val_loss: 0.5902 - val_acc: 0.8210\n",
      "5e-05  Epoch 156/200\n",
      "9224/9224 [==============================] - 3s - loss: 0.4672 - acc: 0.8938 - val_loss: 0.6223 - val_acc: 0.8210\n",
      "5e-05  Epoch 157/200\n",
      "9224/9224 [==============================] - 3s - loss: 0.4758 - acc: 0.8875 - val_loss: 0.6110 - val_acc: 0.8313\n",
      "5e-05  Epoch 158/200\n",
      "9224/9224 [==============================] - 3s - loss: 0.4572 - acc: 0.8957 - val_loss: 0.5949 - val_acc: 0.8272\n",
      "5e-05  Epoch 159/200\n",
      "9224/9224 [==============================] - 3s - loss: 0.4410 - acc: 0.9009 - val_loss: 0.5947 - val_acc: 0.8251\n",
      "5e-05  Epoch 160/200\n",
      "9224/9224 [==============================] - 3s - loss: 0.4450 - acc: 0.8987 - val_loss: 0.5962 - val_acc: 0.8169\n",
      "5e-05  Epoch 161/200\n",
      "9224/9224 [==============================] - 3s - loss: 0.4337 - acc: 0.9016 - val_loss: 0.5783 - val_acc: 0.8313\n",
      "5e-05  Epoch 162/200\n",
      "9224/9224 [==============================] - 3s - loss: 0.4185 - acc: 0.9054 - val_loss: 0.5787 - val_acc: 0.8354\n",
      "5e-05  Epoch 163/200\n",
      "9224/9224 [==============================] - 3s - loss: 0.4146 - acc: 0.9081 - val_loss: 0.5722 - val_acc: 0.8313\n",
      "5e-05  Epoch 164/200\n",
      "9224/9224 [==============================] - 3s - loss: 0.4047 - acc: 0.9125 - val_loss: 0.5562 - val_acc: 0.8498\n",
      "5e-05  Epoch 165/200\n",
      "9224/9224 [==============================] - 3s - loss: 0.4006 - acc: 0.9113 - val_loss: 0.5927 - val_acc: 0.8210\n",
      "5e-05  Epoch 166/200\n",
      "9224/9224 [==============================] - 3s - loss: 0.3987 - acc: 0.9131 - val_loss: 0.5528 - val_acc: 0.8416\n",
      "5e-05  Epoch 167/200\n",
      "9224/9224 [==============================] - 3s - loss: 0.4036 - acc: 0.9083 - val_loss: 0.5830 - val_acc: 0.8230\n",
      "5e-05  Epoch 168/200\n",
      "9224/9224 [==============================] - 3s - loss: 0.4009 - acc: 0.9093 - val_loss: 0.5642 - val_acc: 0.8477\n",
      "5e-05  Epoch 169/200\n",
      "9224/9224 [==============================] - 3s - loss: 0.3926 - acc: 0.9120 - val_loss: 0.5707 - val_acc: 0.8416\n",
      "5e-05  Epoch 170/200\n",
      "9224/9224 [==============================] - 3s - loss: 0.3866 - acc: 0.9101 - val_loss: 0.5551 - val_acc: 0.8395\n",
      "5e-05  Epoch 171/200\n",
      "9224/9224 [==============================] - 3s - loss: 0.3759 - acc: 0.9171 - val_loss: 0.5441 - val_acc: 0.8457\n",
      "5e-05  Epoch 172/200\n",
      "9224/9224 [==============================] - 3s - loss: 0.3774 - acc: 0.9148 - val_loss: 0.5533 - val_acc: 0.8313\n",
      "5e-05  Epoch 173/200\n",
      "9224/9224 [==============================] - 3s - loss: 0.3827 - acc: 0.9102 - val_loss: 0.5918 - val_acc: 0.8210\n",
      "5e-05  Epoch 174/200\n",
      "9224/9224 [==============================] - 3s - loss: 0.3805 - acc: 0.9127 - val_loss: 0.5886 - val_acc: 0.8251\n",
      "5e-05  Epoch 175/200\n",
      "9224/9224 [==============================] - 3s - loss: 0.3827 - acc: 0.9131 - val_loss: 0.5557 - val_acc: 0.8395\n",
      "5e-05  Epoch 176/200\n",
      "9224/9224 [==============================] - 3s - loss: 0.3795 - acc: 0.9137 - val_loss: 0.5581 - val_acc: 0.8395\n",
      "5e-05  Epoch 177/200\n",
      "9224/9224 [==============================] - 3s - loss: 0.3672 - acc: 0.9165 - val_loss: 0.5529 - val_acc: 0.8436\n",
      "5e-05  Epoch 178/200\n",
      "9224/9224 [==============================] - 3s - loss: 0.3586 - acc: 0.9235 - val_loss: 0.5754 - val_acc: 0.8148\n",
      "5e-05  Epoch 179/200\n",
      "9224/9224 [==============================] - 3s - loss: 0.4243 - acc: 0.8974 - val_loss: 0.6595 - val_acc: 0.7963\n",
      "5e-05  Epoch 180/200\n",
      "9224/9224 [==============================] - 3s - loss: 0.3981 - acc: 0.9049 - val_loss: 0.5789 - val_acc: 0.8313\n",
      "5e-05  Epoch 181/200\n",
      "9224/9224 [==============================] - 3s - loss: 0.3729 - acc: 0.9149 - val_loss: 0.5650 - val_acc: 0.8374\n",
      "5e-05  Epoch 182/200\n"
     ]
    },
    {
     "name": "stdout",
     "output_type": "stream",
     "text": [
      "9224/9224 [==============================] - 3s - loss: 0.3670 - acc: 0.9180 - val_loss: 0.5793 - val_acc: 0.8292\n",
      "5e-05  Epoch 183/200\n",
      "9224/9224 [==============================] - 3s - loss: 0.3664 - acc: 0.9194 - val_loss: 0.5625 - val_acc: 0.8354\n",
      "5e-05  Epoch 184/200\n",
      "9224/9224 [==============================] - 3s - loss: 0.3518 - acc: 0.9188 - val_loss: 0.5496 - val_acc: 0.8395\n",
      "5e-05  Epoch 185/200\n",
      "9224/9224 [==============================] - 3s - loss: 0.3571 - acc: 0.9175 - val_loss: 0.5773 - val_acc: 0.8230\n",
      "5e-05  Epoch 186/200\n",
      "9224/9224 [==============================] - 3s - loss: 0.3463 - acc: 0.9231 - val_loss: 0.5451 - val_acc: 0.8354\n",
      "5e-05  Epoch 187/200\n",
      "9224/9224 [==============================] - 3s - loss: 0.3460 - acc: 0.9247 - val_loss: 0.5677 - val_acc: 0.8395\n",
      "5e-05  Epoch 188/200\n",
      "9224/9224 [==============================] - 3s - loss: 0.3621 - acc: 0.9205 - val_loss: 0.5718 - val_acc: 0.8272\n",
      "5e-05  Epoch 189/200\n",
      "9224/9224 [==============================] - 3s - loss: 0.3613 - acc: 0.9213 - val_loss: 0.5727 - val_acc: 0.8292\n",
      "5e-05  Epoch 190/200\n",
      "9224/9224 [==============================] - 3s - loss: 0.3653 - acc: 0.9170 - val_loss: 0.6028 - val_acc: 0.8066\n",
      "5e-05  Epoch 191/200\n",
      "9224/9224 [==============================] - 3s - loss: 0.3431 - acc: 0.9225 - val_loss: 0.5482 - val_acc: 0.8272\n",
      "5e-05  Epoch 192/200\n",
      "9224/9224 [==============================] - 3s - loss: 0.3313 - acc: 0.9293 - val_loss: 0.5468 - val_acc: 0.8333\n",
      "5e-05  Epoch 193/200\n",
      "9224/9224 [==============================] - 3s - loss: 0.3244 - acc: 0.9291 - val_loss: 0.5656 - val_acc: 0.8333\n",
      "5e-05  Epoch 194/200\n",
      "9224/9224 [==============================] - 3s - loss: 0.3222 - acc: 0.9300 - val_loss: 0.5358 - val_acc: 0.8374\n",
      "5e-05  Epoch 195/200\n",
      "9224/9224 [==============================] - 3s - loss: 0.3098 - acc: 0.9309 - val_loss: 0.5431 - val_acc: 0.8292\n",
      "5e-05  Epoch 196/200\n",
      "9224/9224 [==============================] - 3s - loss: 0.3049 - acc: 0.9352 - val_loss: 0.5434 - val_acc: 0.8333\n",
      "5e-05  Epoch 197/200\n",
      "9224/9224 [==============================] - 3s - loss: 0.3032 - acc: 0.9342 - val_loss: 0.5361 - val_acc: 0.8354\n",
      "5e-05  Epoch 198/200\n",
      "9224/9224 [==============================] - 3s - loss: 0.2990 - acc: 0.9359 - val_loss: 0.5425 - val_acc: 0.8354\n",
      "5e-05  Epoch 199/200\n",
      "9224/9224 [==============================] - 3s - loss: 0.3014 - acc: 0.9337 - val_loss: 0.5247 - val_acc: 0.8457\n",
      "5e-05  Epoch 200/200\n",
      "9224/9224 [==============================] - 3s - loss: 0.2932 - acc: 0.9399 - val_loss: 0.5209 - val_acc: 0.8457\n"
     ]
    }
   ],
   "source": [
    "hist = model.fit(x_train, y_train,\n",
    "                 batch_size=1024,\n",
    "                 epochs=200, #Increase this when not on Kaggle kernel\n",
    "                 verbose=1,  #1 for ETA, 0 for silent\n",
    "                 validation_data=(x_val, y_val), \n",
    "                 callbacks=[annealer,tensorBoard])"
   ]
  },
  {
   "cell_type": "code",
   "execution_count": 11,
   "metadata": {},
   "outputs": [
    {
     "name": "stdout",
     "output_type": "stream",
     "text": [
      "486/486 [==============================] - 0s     \n",
      "Final loss: 0.5209, final accuracy: 0.8457\n"
     ]
    }
   ],
   "source": [
    "final_loss, final_acc = model.evaluate(x_val, y_val, verbose=1)\n",
    "print(\"Final loss: {0:.4f}, final accuracy: {1:.4f}\".format(final_loss, final_acc))"
   ]
  },
  {
   "cell_type": "code",
   "execution_count": 12,
   "metadata": {
    "collapsed": true
   },
   "outputs": [],
   "source": [
    "run_name_acc = run_name + '_' + str(int(final_acc*10000)).zfill(4)"
   ]
  },
  {
   "cell_type": "code",
   "execution_count": 13,
   "metadata": {},
   "outputs": [
    {
     "name": "stdout",
     "output_type": "stream",
     "text": [
      "Index(['acc', 'loss', 'val_acc', 'val_loss', 'epoch'], dtype='object')\n"
     ]
    }
   ],
   "source": [
    "histories = pd.DataFrame(hist.history)\n",
    "histories['epoch'] = hist.epoch\n",
    "print(histories.columns)\n",
    "histories_file = os.path.join(model_path, run_name_acc + '.csv')\n",
    "histories.to_csv(histories_file, index=False)"
   ]
  },
  {
   "cell_type": "code",
   "execution_count": 14,
   "metadata": {},
   "outputs": [
    {
     "data": {
      "image/png": "[encoded data removed]",
      "text/plain": [
       "<matplotlib.figure.Figure at 0x67073fee80>"
      ]
     },
     "metadata": {},
     "output_type": "display_data"
    },
    {
     "data": {
      "image/png": "[encoded data removed]",
      "text/plain": [
       "<matplotlib.figure.Figure at 0x671a648ac8>"
      ]
     },
     "metadata": {},
     "output_type": "display_data"
    }
   ],
   "source": [
    "import matplotlib.pyplot as plt\n",
    "%matplotlib inline\n",
    "\n",
    "plt.plot(hist.history['loss'], color='b')\n",
    "plt.plot(hist.history['val_loss'], color='r')\n",
    "plt.show()\n",
    "plt.plot(hist.history['acc'], color='b')\n",
    "plt.plot(hist.history['val_acc'], color='r')\n",
    "plt.show()"
   ]
  },
  {
   "cell_type": "code",
   "execution_count": 15,
   "metadata": {
    "collapsed": true
   },
   "outputs": [],
   "source": [
    "def saveModel(model, run_name):\n",
    "    cwd = os.getcwd()\n",
    "    modelPath = os.path.join(cwd, 'model')\n",
    "    if not os.path.isdir(modelPath):\n",
    "        os.mkdir(modelPath)\n",
    "    weigthsFile = os.path.join(modelPath, run_name + '.h5')\n",
    "    model.save(weigthsFile)\n",
    "saveModel(model, run_name_acc)"
   ]
  },
  {
   "cell_type": "markdown",
   "metadata": {},
   "source": [
    "## Predict"
   ]
  },
  {
   "cell_type": "code",
   "execution_count": 16,
   "metadata": {
    "collapsed": true
   },
   "outputs": [],
   "source": [
    "# Used to load model directly and skip train\n",
    "# import os\n",
    "# from keras.models import load_model\n",
    "# cwd = os.getcwd()\n",
    "# model = load_model(os.path.join(cwd, 'model', 'Dog_Breed_Identification_Train_20171024_155154.h5'))"
   ]
  },
  {
   "cell_type": "code",
   "execution_count": 17,
   "metadata": {},
   "outputs": [
    {
     "name": "stdout",
     "output_type": "stream",
     "text": [
      "(10357, 120)\n"
     ]
    }
   ],
   "source": [
    "y_pred = model.predict(x_test, batch_size=128)\n",
    "print(y_pred.shape)"
   ]
  },
  {
   "cell_type": "code",
   "execution_count": 18,
   "metadata": {
    "collapsed": true
   },
   "outputs": [],
   "source": [
    "# print(y_pred[:10])\n",
    "# y_pred = np.clip(y_pred, 0.005, 0.995)\n",
    "# print(y_pred[:10])"
   ]
  },
  {
   "cell_type": "code",
   "execution_count": 19,
   "metadata": {},
   "outputs": [
    {
     "name": "stdout",
     "output_type": "stream",
     "text": [
      "['000621fb3cbb32d8935728e48679680e.jpg', '00102ee9d8eb90812350685311fe5890.jpg', '0012a730dfa437f5f3613fb75efcd4ce.jpg', '001510bc8570bbeee98c8d80c8a95ec1.jpg', '001a5f3114548acdefa3d4da05474c2e.jpg', '00225dcd3e4d2410dd53239f95c0352f.jpg', '002c2a3117c2193b4d26400ce431eebd.jpg', '002c58d413a521ae8d1a5daeb35fc803.jpg', '002f80396f1e3db687c5932d7978b196.jpg', '0036c6bcec6031be9e62a257b1c3c442.jpg']\n"
     ]
    }
   ],
   "source": [
    "files = os.listdir(os.path.join(cwd, 'input', 'data_test', 'test'))\n",
    "print(files[:10])"
   ]
  },
  {
   "cell_type": "code",
   "execution_count": 20,
   "metadata": {},
   "outputs": [
    {
     "name": "stdout",
     "output_type": "stream",
     "text": [
      "lables amount: 10222\n"
     ]
    },
    {
     "data": {
      "text/html": [
       "<div>\n",
       "<style>\n",
       "    .dataframe thead tr:only-child th {\n",
       "        text-align: right;\n",
       "    }\n",
       "\n",
       "    .dataframe thead th {\n",
       "        text-align: left;\n",
       "    }\n",
       "\n",
       "    .dataframe tbody tr th {\n",
       "        vertical-align: top;\n",
       "    }\n",
       "</style>\n",
       "<table border=\"1\" class=\"dataframe\">\n",
       "  <thead>\n",
       "    <tr style=\"text-align: right;\">\n",
       "      <th></th>\n",
       "      <th>id</th>\n",
       "      <th>breed</th>\n",
       "    </tr>\n",
       "  </thead>\n",
       "  <tbody>\n",
       "    <tr>\n",
       "      <th>0</th>\n",
       "      <td>000bec180eb18c7604dcecc8fe0dba07</td>\n",
       "      <td>boston_bull</td>\n",
       "    </tr>\n",
       "    <tr>\n",
       "      <th>1</th>\n",
       "      <td>001513dfcb2ffafc82cccf4d8bbaba97</td>\n",
       "      <td>dingo</td>\n",
       "    </tr>\n",
       "    <tr>\n",
       "      <th>2</th>\n",
       "      <td>001cdf01b096e06d78e9e5112d419397</td>\n",
       "      <td>pekinese</td>\n",
       "    </tr>\n",
       "    <tr>\n",
       "      <th>3</th>\n",
       "      <td>00214f311d5d2247d5dfe4fe24b2303d</td>\n",
       "      <td>bluetick</td>\n",
       "    </tr>\n",
       "    <tr>\n",
       "      <th>4</th>\n",
       "      <td>0021f9ceb3235effd7fcde7f7538ed62</td>\n",
       "      <td>golden_retriever</td>\n",
       "    </tr>\n",
       "  </tbody>\n",
       "</table>\n",
       "</div>"
      ],
      "text/plain": [
       "                                 id             breed\n",
       "0  000bec180eb18c7604dcecc8fe0dba07       boston_bull\n",
       "1  001513dfcb2ffafc82cccf4d8bbaba97             dingo\n",
       "2  001cdf01b096e06d78e9e5112d419397          pekinese\n",
       "3  00214f311d5d2247d5dfe4fe24b2303d          bluetick\n",
       "4  0021f9ceb3235effd7fcde7f7538ed62  golden_retriever"
      ]
     },
     "execution_count": 20,
     "metadata": {},
     "output_type": "execute_result"
    }
   ],
   "source": [
    "cwd = os.getcwd()\n",
    "df = pd.read_csv(os.path.join(cwd, 'input', 'labels.csv'))\n",
    "print('lables amount: %d' %len(df))\n",
    "df.head()"
   ]
  },
  {
   "cell_type": "code",
   "execution_count": 21,
   "metadata": {},
   "outputs": [
    {
     "name": "stdout",
     "output_type": "stream",
     "text": [
      "{'black-and-tan_coonhound', 'lakeland_terrier', 'schipperke', 'chow', 'bernese_mountain_dog', 'border_terrier', 'borzoi', 'boston_bull', 'kerry_blue_terrier', 'komondor', 'bloodhound', 'japanese_spaniel', 'saluki', 'standard_schnauzer', 'welsh_springer_spaniel', 'ibizan_hound', 'french_bulldog', 'collie', 'otterhound', 'irish_wolfhound', 'blenheim_spaniel', 'appenzeller', 'curly-coated_retriever', 'weimaraner', 'sussex_spaniel', 'siberian_husky', 'german_short-haired_pointer', 'irish_terrier', 'german_shepherd', 'wire-haired_fox_terrier', 'pomeranian', 'golden_retriever', 'shetland_sheepdog', 'scotch_terrier', 'irish_water_spaniel', 'australian_terrier', 'english_springer', 'labrador_retriever', 'staffordshire_bullterrier', 'brittany_spaniel', 'samoyed', 'rottweiler', 'norwich_terrier', 'dingo', 'mexican_hairless', 'bouvier_des_flandres', 'scottish_deerhound', 'toy_terrier', 'standard_poodle', 'old_english_sheepdog', 'bluetick', 'yorkshire_terrier', 'eskimo_dog', 'clumber', 'english_setter', 'west_highland_white_terrier', 'cocker_spaniel', 'dhole', 'leonberg', 'whippet', 'keeshond', 'bedlington_terrier', 'cairn', 'chihuahua', 'miniature_schnauzer', 'affenpinscher', 'tibetan_mastiff', 'pembroke', 'papillon', 'afghan_hound', 'silky_terrier', 'soft-coated_wheaten_terrier', 'saint_bernard', 'toy_poodle', 'cardigan', 'walker_hound', 'redbone', 'kuvasz', 'newfoundland', 'vizsla', 'greater_swiss_mountain_dog', 'maltese_dog', 'lhasa', 'basset', 'norwegian_elkhound', 'giant_schnauzer', 'dandie_dinmont', 'basenji', 'sealyham_terrier', 'norfolk_terrier', 'great_pyrenees', 'american_staffordshire_terrier', 'beagle', 'pekinese', 'border_collie', 'flat-coated_retriever', 'english_foxhound', 'airedale', 'african_hunting_dog', 'groenendael', 'tibetan_terrier', 'pug', 'briard', 'miniature_pinscher', 'rhodesian_ridgeback', 'entlebucher', 'malinois', 'irish_setter', 'brabancon_griffon', 'shih-tzu', 'malamute', 'great_dane', 'italian_greyhound', 'chesapeake_bay_retriever', 'boxer', 'doberman', 'bull_mastiff', 'kelpie', 'gordon_setter', 'miniature_poodle'}\n"
     ]
    }
   ],
   "source": [
    "n = len(df)\n",
    "breed = set(df['breed'])\n",
    "n_class = len(breed)\n",
    "class_to_num = dict(zip(breed, range(n_class)))\n",
    "num_to_class = dict(zip(range(n_class), breed))\n",
    "print(breed)"
   ]
  },
  {
   "cell_type": "code",
   "execution_count": 22,
   "metadata": {},
   "outputs": [
    {
     "name": "stdout",
     "output_type": "stream",
     "text": [
      "(10357, 121)\n"
     ]
    }
   ],
   "source": [
    "df2 = pd.read_csv('.\\\\input\\\\sample_submission.csv')\n",
    "n_test = len(df2)\n",
    "print(df2.shape)"
   ]
  },
  {
   "cell_type": "code",
   "execution_count": 23,
   "metadata": {
    "collapsed": true
   },
   "outputs": [],
   "source": [
    "for i in range(0, 120):\n",
    "    df2.iloc[:,[i+1]] = y_pred[:,i]\n",
    "if not os.path.exists(output_path):\n",
    "    os.mkdir(output_path)\n",
    "pred_file = os.path.join(output_path, 'pred_' + run_name_acc + '.csv')\n",
    "df2.to_csv(pred_file, index=None)"
   ]
  },
  {
   "cell_type": "code",
   "execution_count": null,
   "metadata": {
    "collapsed": true
   },
   "outputs": [],
   "source": []
  },
  {
   "cell_type": "code",
   "execution_count": 24,
   "metadata": {},
   "outputs": [
    {
     "name": "stdout",
     "output_type": "stream",
     "text": [
      "Dog_Breed_Identification_Train-Predict_20171111_230804_8456\n",
      "Done !\n"
     ]
    }
   ],
   "source": [
    "print(run_name_acc)\n",
    "print('Done !')"
   ]
  },
  {
   "cell_type": "code",
   "execution_count": null,
   "metadata": {
    "collapsed": true
   },
   "outputs": [],
   "source": []
  }
 ],
 "metadata": {
  "kernelspec": {
   "display_name": "Python 3",
   "language": "python",
   "name": "python3"
  },
  "language_info": {
   "codemirror_mode": {
    "name": "ipython",
    "version": 3
   },
   "file_extension": ".py",
   "mimetype": "text/x-python",
   "name": "python",
   "nbconvert_exporter": "python",
   "pygments_lexer": "ipython3",
   "version": "3.5.4"
  }
 },
 "nbformat": 4,
 "nbformat_minor": 2
}
