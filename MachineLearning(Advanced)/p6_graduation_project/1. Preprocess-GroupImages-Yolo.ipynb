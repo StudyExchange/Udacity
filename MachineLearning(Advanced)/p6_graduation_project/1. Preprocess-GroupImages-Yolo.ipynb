{
 "cells": [
  {
   "cell_type": "markdown",
   "metadata": {},
   "source": [
    "# 1. 数据预处理-Yolo"
   ]
  },
  {
   "cell_type": "markdown",
   "metadata": {},
   "source": [
    "yolo源代码，自带的image测试命令：\n",
    "```\n",
    "python ./test_yolo.py  ./model_data/yolo.h5  -a ./model_data/yolo_anchors.txt  -c ./model_data/pascal_classes.txt  -t ./images  -o ./images/out\n",
    "```"
   ]
  },
  {
   "cell_type": "markdown",
   "metadata": {},
   "source": [
    "在YOLO源代码目录，运行命令：\n",
    "```\n",
    "python process_dog.py\n",
    "```"
   ]
  },
  {
   "cell_type": "code",
   "execution_count": null,
   "metadata": {},
   "outputs": [],
   "source": []
  }
 ],
 "metadata": {
  "kernelspec": {
   "display_name": "Python 3",
   "language": "python",
   "name": "python3"
  },
  "language_info": {
   "codemirror_mode": {
    "name": "ipython",
    "version": 3
   },
   "file_extension": ".py",
   "mimetype": "text/x-python",
   "name": "python",
   "nbconvert_exporter": "python",
   "pygments_lexer": "ipython3",
   "version": "3.6.3"
  }
 },
 "nbformat": 4,
 "nbformat_minor": 2
}
