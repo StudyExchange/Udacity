{
 "cells": [
  {
   "cell_type": "markdown",
   "metadata": {
    "collapsed": true
   },
   "source": [
    "## 3. InceptionV3 Fine Tune\n",
    "### Result:\n",
    "- \n",
    "\n",
    "### References:\n",
    "1. https://github.com/ypwhs/dogs_vs_cats\n",
    "2. https://www.kaggle.com/yangpeiwen/keras-inception-xception-0-47"
   ]
  },
  {
   "cell_type": "markdown",
   "metadata": {
    "collapsed": true
   },
   "source": [
    "### Import pkgs"
   ]
  },
  {
   "cell_type": "code",
   "execution_count": 1,
   "metadata": {},
   "outputs": [
    {
     "name": "stderr",
     "output_type": "stream",
     "text": [
      "Using TensorFlow backend.\n"
     ]
    }
   ],
   "source": [
    "import cv2\n",
    "import numpy as np\n",
    "from tqdm import tqdm\n",
    "import pandas as pd\n",
    "import os, time\n",
    "import random\n",
    "import matplotlib.pyplot as plt\n",
    "from IPython.display import SVG\n",
    "from keras.utils.vis_utils import model_to_dot"
   ]
  },
  {
   "cell_type": "code",
   "execution_count": 2,
   "metadata": {
    "collapsed": true
   },
   "outputs": [],
   "source": [
    "from keras.utils.np_utils import to_categorical # convert to one-hot-encoding\n",
    "from keras.models import Sequential, Model\n",
    "from keras.layers import Input, Dense, Dropout, Flatten, Conv2D, MaxPool2D, GlobalAveragePooling2D, BatchNormalization\n",
    "from keras.optimizers import Adam\n",
    "from keras.preprocessing.image import ImageDataGenerator\n",
    "from keras.callbacks import LearningRateScheduler, TensorBoard\n",
    "\n",
    "from keras.applications.inception_v3 import InceptionV3, preprocess_input"
   ]
  },
  {
   "cell_type": "markdown",
   "metadata": {},
   "source": [
    "### Run name"
   ]
  },
  {
   "cell_type": "code",
   "execution_count": 3,
   "metadata": {},
   "outputs": [
    {
     "name": "stdout",
     "output_type": "stream",
     "text": [
      "run_name: Dog_Breed_Identification_InceptionV3FineTune_20171105_150015\n"
     ]
    }
   ],
   "source": [
    "project_name = 'Dog_Breed_Identification'\n",
    "step_name = 'InceptionV3FineTune'\n",
    "date_str = time.strftime(\"%Y%m%d\", time.localtime())\n",
    "time_str = time.strftime(\"%Y%m%d_%H%M%S\", time.localtime())\n",
    "run_name = project_name + '_' + step_name + '_' + time_str\n",
    "print('run_name: ' + run_name)"
   ]
  },
  {
   "cell_type": "markdown",
   "metadata": {},
   "source": [
    "### Basic folders"
   ]
  },
  {
   "cell_type": "code",
   "execution_count": 4,
   "metadata": {},
   "outputs": [
    {
     "name": "stdout",
     "output_type": "stream",
     "text": [
      "input_path: E:\\Udacity\\MachineLearning(Advanced)\\p6_graduation_project\\input\n",
      "log_path: E:\\Udacity\\MachineLearning(Advanced)\\p6_graduation_project\\log\n",
      "model_path: E:\\Udacity\\MachineLearning(Advanced)\\p6_graduation_project\\model\n",
      "output_path: E:\\Udacity\\MachineLearning(Advanced)\\p6_graduation_project\\output\n"
     ]
    }
   ],
   "source": [
    "cwd = os.getcwd()\n",
    "input_path = os.path.join(cwd, 'input')\n",
    "log_path = os.path.join(cwd, 'log')\n",
    "model_path = os.path.join(cwd, 'model')\n",
    "output_path = os.path.join(cwd, 'output')\n",
    "print('input_path: ' + input_path)\n",
    "print('log_path: ' + log_path)\n",
    "print('model_path: ' + model_path)\n",
    "print('output_path: ' + output_path)"
   ]
  },
  {
   "cell_type": "markdown",
   "metadata": {},
   "source": [
    "### Load data"
   ]
  },
  {
   "cell_type": "code",
   "execution_count": 5,
   "metadata": {},
   "outputs": [
    {
     "name": "stdout",
     "output_type": "stream",
     "text": [
      "lables amount: 10222\n"
     ]
    },
    {
     "data": {
      "text/html": [
       "<div>\n",
       "<style>\n",
       "    .dataframe thead tr:only-child th {\n",
       "        text-align: right;\n",
       "    }\n",
       "\n",
       "    .dataframe thead th {\n",
       "        text-align: left;\n",
       "    }\n",
       "\n",
       "    .dataframe tbody tr th {\n",
       "        vertical-align: top;\n",
       "    }\n",
       "</style>\n",
       "<table border=\"1\" class=\"dataframe\">\n",
       "  <thead>\n",
       "    <tr style=\"text-align: right;\">\n",
       "      <th></th>\n",
       "      <th>id</th>\n",
       "      <th>breed</th>\n",
       "    </tr>\n",
       "  </thead>\n",
       "  <tbody>\n",
       "    <tr>\n",
       "      <th>0</th>\n",
       "      <td>000bec180eb18c7604dcecc8fe0dba07</td>\n",
       "      <td>boston_bull</td>\n",
       "    </tr>\n",
       "    <tr>\n",
       "      <th>1</th>\n",
       "      <td>001513dfcb2ffafc82cccf4d8bbaba97</td>\n",
       "      <td>dingo</td>\n",
       "    </tr>\n",
       "    <tr>\n",
       "      <th>2</th>\n",
       "      <td>001cdf01b096e06d78e9e5112d419397</td>\n",
       "      <td>pekinese</td>\n",
       "    </tr>\n",
       "    <tr>\n",
       "      <th>3</th>\n",
       "      <td>00214f311d5d2247d5dfe4fe24b2303d</td>\n",
       "      <td>bluetick</td>\n",
       "    </tr>\n",
       "    <tr>\n",
       "      <th>4</th>\n",
       "      <td>0021f9ceb3235effd7fcde7f7538ed62</td>\n",
       "      <td>golden_retriever</td>\n",
       "    </tr>\n",
       "  </tbody>\n",
       "</table>\n",
       "</div>"
      ],
      "text/plain": [
       "                                 id             breed\n",
       "0  000bec180eb18c7604dcecc8fe0dba07       boston_bull\n",
       "1  001513dfcb2ffafc82cccf4d8bbaba97             dingo\n",
       "2  001cdf01b096e06d78e9e5112d419397          pekinese\n",
       "3  00214f311d5d2247d5dfe4fe24b2303d          bluetick\n",
       "4  0021f9ceb3235effd7fcde7f7538ed62  golden_retriever"
      ]
     },
     "execution_count": 5,
     "metadata": {},
     "output_type": "execute_result"
    }
   ],
   "source": [
    "cwd = os.getcwd()\n",
    "df = pd.read_csv(os.path.join(cwd, 'input', 'labels.csv'))\n",
    "print('lables amount: %d' %len(df))\n",
    "df.head()"
   ]
  },
  {
   "cell_type": "code",
   "execution_count": 6,
   "metadata": {},
   "outputs": [
    {
     "name": "stdout",
     "output_type": "stream",
     "text": [
      "['affenpinscher', 'afghan_hound', 'african_hunting_dog', 'airedale', 'american_staffordshire_terrier', 'appenzeller', 'australian_terrier', 'basenji', 'basset', 'beagle', 'bedlington_terrier', 'bernese_mountain_dog', 'black-and-tan_coonhound', 'blenheim_spaniel', 'bloodhound', 'bluetick', 'border_collie', 'border_terrier', 'borzoi', 'boston_bull', 'bouvier_des_flandres', 'boxer', 'brabancon_griffon', 'briard', 'brittany_spaniel', 'bull_mastiff', 'cairn', 'cardigan', 'chesapeake_bay_retriever', 'chihuahua', 'chow', 'clumber', 'cocker_spaniel', 'collie', 'curly-coated_retriever', 'dandie_dinmont', 'dhole', 'dingo', 'doberman', 'english_foxhound', 'english_setter', 'english_springer', 'entlebucher', 'eskimo_dog', 'flat-coated_retriever', 'french_bulldog', 'german_shepherd', 'german_short-haired_pointer', 'giant_schnauzer', 'golden_retriever', 'gordon_setter', 'great_dane', 'great_pyrenees', 'greater_swiss_mountain_dog', 'groenendael', 'ibizan_hound', 'irish_setter', 'irish_terrier', 'irish_water_spaniel', 'irish_wolfhound', 'italian_greyhound', 'japanese_spaniel', 'keeshond', 'kelpie', 'kerry_blue_terrier', 'komondor', 'kuvasz', 'labrador_retriever', 'lakeland_terrier', 'leonberg', 'lhasa', 'malamute', 'malinois', 'maltese_dog', 'mexican_hairless', 'miniature_pinscher', 'miniature_poodle', 'miniature_schnauzer', 'newfoundland', 'norfolk_terrier', 'norwegian_elkhound', 'norwich_terrier', 'old_english_sheepdog', 'otterhound', 'papillon', 'pekinese', 'pembroke', 'pomeranian', 'pug', 'redbone', 'rhodesian_ridgeback', 'rottweiler', 'saint_bernard', 'saluki', 'samoyed', 'schipperke', 'scotch_terrier', 'scottish_deerhound', 'sealyham_terrier', 'shetland_sheepdog', 'shih-tzu', 'siberian_husky', 'silky_terrier', 'soft-coated_wheaten_terrier', 'staffordshire_bullterrier', 'standard_poodle', 'standard_schnauzer', 'sussex_spaniel', 'tibetan_mastiff', 'tibetan_terrier', 'toy_poodle', 'toy_terrier', 'vizsla', 'walker_hound', 'weimaraner', 'welsh_springer_spaniel', 'west_highland_white_terrier', 'whippet', 'wire-haired_fox_terrier', 'yorkshire_terrier']\n"
     ]
    }
   ],
   "source": [
    "n = len(df)\n",
    "breed = set(df['breed'])\n",
    "n_class = len(breed)\n",
    "breed = sorted(breed)\n",
    "print(breed)\n",
    "class_to_num = dict(zip(breed, range(n_class)))\n",
    "num_to_class = dict(zip(range(n_class), breed))"
   ]
  },
  {
   "cell_type": "markdown",
   "metadata": {},
   "source": [
    "### Build method"
   ]
  },
  {
   "cell_type": "code",
   "execution_count": 7,
   "metadata": {
    "collapsed": true
   },
   "outputs": [],
   "source": [
    "def build_model():\n",
    "    # create the base pre-trained model\n",
    "    base_model = InceptionV3(weights='imagenet', include_top=False)\n",
    "\n",
    "    # add a global spatial average pooling layer\n",
    "    x = base_model.output\n",
    "    x = GlobalAveragePooling2D()(x)\n",
    "    # let's add a fully-connected layer\n",
    "    x = Dense(2048, activation='relu')(x)\n",
    "    x = Dense(2048, activation='relu')(x)\n",
    "\n",
    "    # and a logistic layer -- let's say we have 200 classes\n",
    "    predictions = Dense(120, activation='softmax')(x)\n",
    "\n",
    "    # this is the model we will train\n",
    "    model = Model(inputs=base_model.input, outputs=predictions)\n",
    "\n",
    "    # first: train only the top layers (which were randomly initialized)\n",
    "    # i.e. freeze all convolutional InceptionV3 layers\n",
    "    for layer in base_model.layers:\n",
    "        layer.trainable = False\n",
    "\n",
    "    model.compile(optimizer = Adam(lr=1e-4), loss = 'categorical_crossentropy', metrics = ['accuracy'])\n",
    "    return model"
   ]
  },
  {
   "cell_type": "code",
   "execution_count": 8,
   "metadata": {
    "collapsed": true
   },
   "outputs": [],
   "source": [
    "model = build_model()\n",
    "# model.summary()"
   ]
  },
  {
   "cell_type": "code",
   "execution_count": 9,
   "metadata": {
    "collapsed": true
   },
   "outputs": [],
   "source": [
    "def saveModel(model, run_name):\n",
    "    cwd = os.getcwd()\n",
    "    modelPath = os.path.join(cwd, 'model')\n",
    "    if not os.path.isdir(modelPath):\n",
    "        os.mkdir(modelPath)\n",
    "    weigthsFile = os.path.join(modelPath, run_name + '.h5')\n",
    "    model.save(weigthsFile)\n",
    "# saveModel(model, 'saveModel_test')"
   ]
  },
  {
   "cell_type": "code",
   "execution_count": 10,
   "metadata": {},
   "outputs": [
    {
     "name": "stdout",
     "output_type": "stream",
     "text": [
      "Found 9710 images belonging to 120 classes.\n",
      "Found 512 images belonging to 120 classes.\n",
      "Found 10357 images belonging to 1 classes.\n",
      "[0 0 0 0 0 0 0 0 0 0 0 0 0 0 0 0 0 0 0 0 0 0 0 0 0 0 0 0 0 0 0 0 0 0 0 0 0\n",
      " 0 0 0 0 0 0 0 0 0 0 0 0 0 0 0 0 0 0 0 0 0 0 0 0 0 0 0 0 0 0 0 0 0 0 0 0 0\n",
      " 0 0 1 1 1 1 1 1 1 1 1 1 1 1 1 1 1 1 1 1 1 1 1 1 1 1]\n",
      "[ 0  0  0  0  1  2  2  2  2  2  2  3  3  3  3  3  3  3  4  4  4  4  4  4  4\n",
      "  5  5  5  5  6  6  6  6  7  7  7  7  7  7  7  7  7  7  8  8  8  8  8  8  8\n",
      "  9  9  9 10 10 10 10 10 11 11 11 11 11 11 11 11 12 12 12 12 12 12 13 13 13\n",
      " 13 13 13 13 13 14 14 14 14 14 14 15 15 15 16 16 17 17 17 18 18 18 19 19 19]\n",
      "[0 0 0 0 0 0 0 0 0 0 0 0 0 0 0 0 0 0 0 0 0 0 0 0 0 0 0 0 0 0 0 0 0 0 0 0 0\n",
      " 0 0 0 0 0 0 0 0 0 0 0 0 0 0 0 0 0 0 0 0 0 0 0 0 0 0 0 0 0 0 0 0 0 0 0 0 0\n",
      " 0 0 0 0 0 0 0 0 0 0 0 0 0 0 0 0 0 0 0 0 0 0 0 0 0 0]\n"
     ]
    }
   ],
   "source": [
    "data_train_path = os.path.join(input_path, 'data_train')\n",
    "data_val_path = os.path.join(input_path, 'data_val')\n",
    "data_test_path  = os.path.join(input_path, 'data_test')\n",
    "\n",
    "image_size = (299, 299)\n",
    "seed = 3\n",
    "batch_size = 64\n",
    "\n",
    "#     gen = ImageDataGenerator()\n",
    "train_gen = ImageDataGenerator(rescale=1./255,\n",
    "                                   rotation_range = 20,\n",
    "                                   zoom_range = 0.1,\n",
    "                                   width_shift_range = 0.1,\n",
    "                                   height_shift_range = 0.1,\n",
    "                                   horizontal_flip = True,\n",
    "                                   vertical_flip = True)\n",
    "val_gen = ImageDataGenerator(rescale=1./255,\n",
    "                                   rotation_range = 20,\n",
    "                                   zoom_range = 0.1,\n",
    "                                   width_shift_range = 0.1,\n",
    "                                   height_shift_range = 0.1,\n",
    "                                   horizontal_flip = True,\n",
    "                                   vertical_flip = True)\n",
    "test_gen = ImageDataGenerator(rescale=1./255)\n",
    "train_generator = train_gen.flow_from_directory(data_train_path, \n",
    "                                          target_size=image_size, \n",
    "                                          shuffle=True,\n",
    "                                          seed=seed,\n",
    "                                          class_mode = \"categorical\",\n",
    "                                          batch_size=batch_size)\n",
    "val_generator = val_gen.flow_from_directory(data_val_path, \n",
    "                                        target_size=image_size, \n",
    "                                        shuffle=False,\n",
    "#                                         seed=seed,\n",
    "                                        class_mode = \"categorical\",\n",
    "                                        batch_size=batch_size)\n",
    "test_generator  = test_gen.flow_from_directory(data_test_path,\n",
    "                                          target_size=image_size, \n",
    "                                          shuffle=False,\n",
    "                                          class_mode = \"categorical\",\n",
    "                                          batch_size=batch_size)\n",
    "print(train_generator.classes[0:100])\n",
    "print(val_generator.classes[0:100])\n",
    "print(test_generator.classes[0:100])"
   ]
  },
  {
   "cell_type": "code",
   "execution_count": 11,
   "metadata": {},
   "outputs": [
    {
     "name": "stdout",
     "output_type": "stream",
     "text": [
      "0.001  0.001  0.001  0.000349  0.000122  0.0001  log_dir:E:\\Udacity\\MachineLearning(Advanced)\\p6_graduation_project\\log\\Dog_Breed_Identification_InceptionV3FineTune_20171105_150015\n"
     ]
    }
   ],
   "source": [
    "# def get_lr(x):\n",
    "#     lr = round(1e-3 * 0.9 ** x, 6)\n",
    "#     if lr < 1e-4:\n",
    "#         lr = 1e-4\n",
    "#     print(lr, end='  ')\n",
    "#     return lr\n",
    "def get_lr(x):\n",
    "    n = 20\n",
    "    lr = 1e-3\n",
    "    if x > n:\n",
    "        lr = round(1e-3 * 0.9 ** (x-n), 6)\n",
    "        if lr < 1e-4:\n",
    "            lr = 1e-4\n",
    "    print(lr, end='  ')\n",
    "    return lr\n",
    "\n",
    "get_lr(10) # Test\n",
    "get_lr(15) # Test\n",
    "get_lr(20) # Test\n",
    "get_lr(30) # Test\n",
    "get_lr(40) # Test\n",
    "get_lr(50) # Test\n",
    "\n",
    "# annealer = LearningRateScheduler(lambda x: 1e-3 * 0.9 ** x)\n",
    "annealer = LearningRateScheduler(get_lr)\n",
    "\n",
    "log_dir = os.path.join(log_path, run_name)\n",
    "print('log_dir:' + log_dir)\n",
    "tensorBoard = TensorBoard(log_dir=log_dir)"
   ]
  },
  {
   "cell_type": "code",
   "execution_count": 12,
   "metadata": {},
   "outputs": [
    {
     "name": "stdout",
     "output_type": "stream",
     "text": [
      "151\n",
      "8\n",
      "162\n",
      "10357 10368\n"
     ]
    }
   ],
   "source": [
    "steps_per_epoch = int(len(train_generator.classes)/batch_size)\n",
    "validation_steps = int(len(val_generator.classes)/batch_size)\n",
    "test_steps = int(len(test_generator.classes)/batch_size)+1\n",
    "print(steps_per_epoch)\n",
    "print(validation_steps)\n",
    "print(test_steps)\n",
    "print(len(test_generator.classes), test_steps*batch_size)"
   ]
  },
  {
   "cell_type": "code",
   "execution_count": 13,
   "metadata": {},
   "outputs": [
    {
     "name": "stdout",
     "output_type": "stream",
     "text": [
      "0.001  Epoch 1/50\n",
      "139s - loss: 2.9992 - acc: 0.3156 - val_loss: 1.7548 - val_acc: 0.5488\n",
      "0.001  Epoch 2/50\n",
      "130s - loss: 1.9069 - acc: 0.4894 - val_loss: 1.7028 - val_acc: 0.5625\n",
      "0.001  Epoch 3/50\n",
      "121s - loss: 1.7400 - acc: 0.5302 - val_loss: 1.5598 - val_acc: 0.5957\n",
      "0.001  Epoch 4/50\n",
      "123s - loss: 1.6483 - acc: 0.5533 - val_loss: 1.8469 - val_acc: 0.4961\n",
      "0.001  Epoch 5/50\n",
      "121s - loss: 1.5664 - acc: 0.5717 - val_loss: 1.5610 - val_acc: 0.5918\n",
      "0.001  Epoch 6/50\n",
      "127s - loss: 1.5479 - acc: 0.5792 - val_loss: 1.5175 - val_acc: 0.6094\n",
      "0.001  Epoch 7/50\n",
      "112s - loss: 1.4767 - acc: 0.5911 - val_loss: 1.4702 - val_acc: 0.6094\n",
      "0.001  Epoch 8/50\n",
      "103s - loss: 1.4511 - acc: 0.6019 - val_loss: 1.6709 - val_acc: 0.5586\n",
      "0.001  Epoch 9/50\n",
      "116s - loss: 1.3811 - acc: 0.6129 - val_loss: 1.4819 - val_acc: 0.6074\n",
      "0.001  Epoch 10/50\n",
      "124s - loss: 1.3609 - acc: 0.6229 - val_loss: 1.6801 - val_acc: 0.5742\n",
      "0.001  Epoch 11/50\n",
      "109s - loss: 1.3072 - acc: 0.6310 - val_loss: 1.4366 - val_acc: 0.6270\n",
      "0.001  Epoch 12/50\n",
      "109s - loss: 1.2801 - acc: 0.6434 - val_loss: 1.6138 - val_acc: 0.5527\n",
      "0.001  Epoch 13/50\n",
      "108s - loss: 1.2812 - acc: 0.6364 - val_loss: 1.6747 - val_acc: 0.5625\n",
      "0.001  Epoch 14/50\n",
      "111s - loss: 1.2139 - acc: 0.6511 - val_loss: 1.6231 - val_acc: 0.5781\n",
      "0.001  Epoch 15/50\n",
      "109s - loss: 1.2372 - acc: 0.6465 - val_loss: 1.4878 - val_acc: 0.6309\n",
      "0.001  Epoch 16/50\n",
      "109s - loss: 1.1812 - acc: 0.6615 - val_loss: 1.6353 - val_acc: 0.5938\n",
      "0.001  Epoch 17/50\n",
      "112s - loss: 1.1600 - acc: 0.6687 - val_loss: 1.4891 - val_acc: 0.6055\n",
      "0.001  Epoch 18/50\n",
      "101s - loss: 1.1240 - acc: 0.6718 - val_loss: 1.4449 - val_acc: 0.6250\n",
      "0.001  Epoch 19/50\n",
      "112s - loss: 1.1142 - acc: 0.6737 - val_loss: 1.9700 - val_acc: 0.5254\n",
      "0.001  Epoch 20/50\n",
      "111s - loss: 1.1194 - acc: 0.6779 - val_loss: 1.6039 - val_acc: 0.5996\n",
      "0.001  Epoch 21/50\n",
      "118s - loss: 1.0688 - acc: 0.6939 - val_loss: 1.6087 - val_acc: 0.5938\n",
      "0.0009  Epoch 22/50\n",
      "132s - loss: 1.0266 - acc: 0.7023 - val_loss: 1.3757 - val_acc: 0.6191\n",
      "0.00081  Epoch 23/50\n",
      "122s - loss: 0.9540 - acc: 0.7189 - val_loss: 1.3403 - val_acc: 0.6523\n",
      "0.000729  Epoch 24/50\n",
      "118s - loss: 0.9190 - acc: 0.7225 - val_loss: 1.6652 - val_acc: 0.5762\n",
      "0.000656  Epoch 25/50\n",
      "118s - loss: 0.8741 - acc: 0.7358 - val_loss: 1.6508 - val_acc: 0.5625\n",
      "0.00059  Epoch 26/50\n",
      "121s - loss: 0.8222 - acc: 0.7519 - val_loss: 1.7295 - val_acc: 0.5977\n",
      "0.000531  Epoch 27/50\n",
      "128s - loss: 0.8038 - acc: 0.7607 - val_loss: 1.4601 - val_acc: 0.6484\n",
      "0.000478  Epoch 28/50\n",
      "128s - loss: 0.7419 - acc: 0.7722 - val_loss: 1.4755 - val_acc: 0.6367\n",
      "0.00043  Epoch 29/50\n",
      "109s - loss: 0.7222 - acc: 0.7800 - val_loss: 1.6405 - val_acc: 0.5703\n",
      "0.000387  Epoch 30/50\n",
      "128s - loss: 0.6897 - acc: 0.7878 - val_loss: 1.7104 - val_acc: 0.6074\n",
      "0.000349  Epoch 31/50\n",
      "133s - loss: 0.6617 - acc: 0.7956 - val_loss: 1.6656 - val_acc: 0.5957\n",
      "0.000314  Epoch 32/50\n",
      "132s - loss: 0.6339 - acc: 0.8033 - val_loss: 1.6501 - val_acc: 0.6387\n",
      "0.000282  Epoch 33/50\n",
      "127s - loss: 0.6145 - acc: 0.8087 - val_loss: 1.6705 - val_acc: 0.5996\n",
      "0.000254  Epoch 34/50\n",
      "127s - loss: 0.6002 - acc: 0.8147 - val_loss: 1.6340 - val_acc: 0.6094\n",
      "0.000229  Epoch 35/50\n",
      "112s - loss: 0.5761 - acc: 0.8206 - val_loss: 1.5723 - val_acc: 0.6113\n",
      "0.000206  Epoch 36/50\n",
      "125s - loss: 0.5453 - acc: 0.8350 - val_loss: 1.6008 - val_acc: 0.6309\n",
      "0.000185  Epoch 37/50\n",
      "152s - loss: 0.5585 - acc: 0.8251 - val_loss: 1.5869 - val_acc: 0.6250\n",
      "0.000167  Epoch 38/50\n",
      "152s - loss: 0.5400 - acc: 0.8314 - val_loss: 1.6115 - val_acc: 0.6270\n",
      "0.00015  Epoch 39/50\n",
      "147s - loss: 0.5380 - acc: 0.8357 - val_loss: 1.4935 - val_acc: 0.6562\n",
      "0.000135  Epoch 40/50\n",
      "150s - loss: 0.4998 - acc: 0.8436 - val_loss: 1.7310 - val_acc: 0.6328\n",
      "0.000122  Epoch 41/50\n",
      "143s - loss: 0.5041 - acc: 0.8404 - val_loss: 1.8411 - val_acc: 0.5957\n",
      "0.000109  Epoch 42/50\n",
      "142s - loss: 0.4969 - acc: 0.8482 - val_loss: 1.6983 - val_acc: 0.6016\n",
      "0.0001  Epoch 43/50\n",
      "136s - loss: 0.4872 - acc: 0.8508 - val_loss: 1.6316 - val_acc: 0.6289\n",
      "0.0001  Epoch 44/50\n",
      "132s - loss: 0.4932 - acc: 0.8465 - val_loss: 1.6687 - val_acc: 0.6250\n",
      "0.0001  Epoch 45/50\n",
      "134s - loss: 0.4764 - acc: 0.8488 - val_loss: 1.6997 - val_acc: 0.5938\n",
      "0.0001  Epoch 46/50\n",
      "139s - loss: 0.4761 - acc: 0.8545 - val_loss: 1.9489 - val_acc: 0.5840\n",
      "0.0001  Epoch 47/50\n",
      "136s - loss: 0.4531 - acc: 0.8647 - val_loss: 1.5063 - val_acc: 0.6445\n",
      "0.0001  Epoch 48/50\n",
      "134s - loss: 0.4741 - acc: 0.8521 - val_loss: 1.7753 - val_acc: 0.6152\n",
      "0.0001  Epoch 49/50\n",
      "146s - loss: 0.4735 - acc: 0.8522 - val_loss: 1.7227 - val_acc: 0.6074\n",
      "0.0001  Epoch 50/50\n",
      "114s - loss: 0.4432 - acc: 0.8662 - val_loss: 1.4864 - val_acc: 0.6465\n",
      "Wall time: 1h 44min 49s\n"
     ]
    }
   ],
   "source": [
    "%%time\n",
    "hist = model.fit_generator(train_generator,\n",
    "                 steps_per_epoch=steps_per_epoch, \n",
    "                 epochs=50, \n",
    "                 verbose=2, \n",
    "                 callbacks=[annealer, tensorBoard], \n",
    "                 validation_data=val_generator, \n",
    "                 validation_steps=validation_steps, \n",
    "                 class_weight=None, \n",
    "                 max_queue_size=128, \n",
    "                 workers=32, \n",
    "                 use_multiprocessing=False, \n",
    "                 shuffle=False, \n",
    "                 initial_epoch=0)"
   ]
  },
  {
   "cell_type": "code",
   "execution_count": 14,
   "metadata": {},
   "outputs": [
    {
     "name": "stdout",
     "output_type": "stream",
     "text": [
      "Final loss: 1.3473, final accuracy: 0.6914\n",
      "Wall time: 24.5 s\n"
     ]
    }
   ],
   "source": [
    "%%time\n",
    "final_loss, final_acc = model.evaluate_generator(val_generator, steps=validation_steps, max_queue_size=128, workers=32, use_multiprocessing=False)\n",
    "print(\"Final loss: {0:.4f}, final accuracy: {1:.4f}\".format(final_loss, final_acc))"
   ]
  },
  {
   "cell_type": "code",
   "execution_count": 15,
   "metadata": {},
   "outputs": [
    {
     "name": "stdout",
     "output_type": "stream",
     "text": [
      "Dog_Breed_Identification_InceptionV3FineTune_20171105_150015_6914\n"
     ]
    }
   ],
   "source": [
    "run_name_acc = run_name + '_' + str(int(final_acc*10000)).zfill(4)\n",
    "print(run_name_acc)"
   ]
  },
  {
   "cell_type": "code",
   "execution_count": 16,
   "metadata": {},
   "outputs": [
    {
     "name": "stdout",
     "output_type": "stream",
     "text": [
      "Index(['acc', 'loss', 'val_acc', 'val_loss', 'epoch'], dtype='object')\n"
     ]
    }
   ],
   "source": [
    "histories = pd.DataFrame(hist.history)\n",
    "histories['epoch'] = hist.epoch\n",
    "print(histories.columns)\n",
    "histories_file = os.path.join(model_path, run_name_acc + '.csv')\n",
    "histories.to_csv(histories_file, index=False)"
   ]
  },
  {
   "cell_type": "code",
   "execution_count": 17,
   "metadata": {},
   "outputs": [
    {
     "data": {
      "image/png": "[encoded data removed]",
      "text/plain": [
       "<matplotlib.figure.Figure at 0xae80697898>"
      ]
     },
     "metadata": {},
     "output_type": "display_data"
    },
    {
     "data": {
      "image/png": "[encoded data removed]",
      "text/plain": [
       "<matplotlib.figure.Figure at 0xae8cc2fc50>"
      ]
     },
     "metadata": {},
     "output_type": "display_data"
    }
   ],
   "source": [
    "import matplotlib.pyplot as plt\n",
    "%matplotlib inline\n",
    "\n",
    "plt.plot(hist.history['loss'], color='b')\n",
    "plt.plot(hist.history['val_loss'], color='r')\n",
    "plt.show()\n",
    "plt.plot(hist.history['acc'], color='b')\n",
    "plt.plot(hist.history['val_acc'], color='r')\n",
    "plt.show()"
   ]
  },
  {
   "cell_type": "code",
   "execution_count": 18,
   "metadata": {
    "collapsed": true
   },
   "outputs": [],
   "source": [
    "saveModel(model, run_name_acc)"
   ]
  },
  {
   "cell_type": "markdown",
   "metadata": {},
   "source": [
    "### Predict"
   ]
  },
  {
   "cell_type": "code",
   "execution_count": 19,
   "metadata": {},
   "outputs": [
    {
     "name": "stdout",
     "output_type": "stream",
     "text": [
      "(10357, 121)\n"
     ]
    }
   ],
   "source": [
    "df2 = pd.read_csv('.\\\\input\\\\sample_submission.csv')\n",
    "n_test = len(df2)\n",
    "print(df2.shape)"
   ]
  },
  {
   "cell_type": "code",
   "execution_count": 20,
   "metadata": {},
   "outputs": [
    {
     "name": "stdout",
     "output_type": "stream",
     "text": [
      "162/162 [==============================] - ETA: 94 - ETA: 50 - ETA: 36 - ETA: 29 - ETA: 24 - ETA: 22 - ETA: 20 - ETA: 18 - ETA: 17 - ETA: 16 - ETA: 15 - ETA: 14 - ETA: 14 - ETA: 13 - ETA: 13 - ETA: 12 - ETA: 12 - ETA: 11 - ETA: 11 - ETA: 11 - ETA: 11 - ETA: 10 - ETA: 10 - ETA: 10 - ETA: 10 - ETA: 10 - ETA: 98s - ETA: 97 - ETA: 95 - ETA: 93 - ETA: 92 - ETA: 90 - ETA: 89 - ETA: 88 - ETA: 87 - ETA: 86 - ETA: 84 - ETA: 83 - ETA: 82 - ETA: 81 - ETA: 80 - ETA: 79 - ETA: 78 - ETA: 77 - ETA: 76 - ETA: 75 - ETA: 74 - ETA: 73 - ETA: 72 - ETA: 72 - ETA: 71 - ETA: 70 - ETA: 69 - ETA: 68 - ETA: 67 - ETA: 67 - ETA: 66 - ETA: 65 - ETA: 64 - ETA: 63 - ETA: 63 - ETA: 62 - ETA: 61 - ETA: 61 - ETA: 60 - ETA: 59 - ETA: 58 - ETA: 58 - ETA: 57 - ETA: 56 - ETA: 55 - ETA: 55 - ETA: 54 - ETA: 53 - ETA: 53 - ETA: 52 - ETA: 51 - ETA: 50 - ETA: 50 - ETA: 49 - ETA: 48 - ETA: 48 - ETA: 47 - ETA: 47 - ETA: 46 - ETA: 45 - ETA: 45 - ETA: 44 - ETA: 43 - ETA: 43 - ETA: 42 - ETA: 41 - ETA: 41 - ETA: 40 - ETA: 40 - ETA: 39 - ETA: 38 - ETA: 38 - ETA: 37 - ETA: 37 - ETA: 36 - ETA: 35 - ETA: 35 - ETA: 34 - ETA: 33 - ETA: 33 - ETA: 32 - ETA: 32 - ETA: 31 - ETA: 31 - ETA: 30 - ETA: 29 - ETA: 29 - ETA: 28 - ETA: 28 - ETA: 27 - ETA: 26 - ETA: 26 - ETA: 25 - ETA: 25 - ETA: 24 - ETA: 23 - ETA: 23 - ETA: 22 - ETA: 22 - ETA: 21 - ETA: 20 - ETA: 20 - ETA: 19 - ETA: 18 - ETA: 18 - ETA: 17 - ETA: 17 - ETA: 16 - ETA: 15 - ETA: 15 - ETA: 14 - ETA: 14 - ETA: 13 - ETA: 13 - ETA: 12 - ETA: 11 - ETA: 11 - ETA: 10 - ETA: 10 - ETA: 9 - ETA:  - ETA:  - ETA:  - ETA:  - ETA:  - ETA:  - ETA:  - ETA:  - ETA:  - ETA:  - ETA:  - ETA:  - ETA:  - ETA:  - ETA:  - 94s    \n",
      "(10368, 120)\n",
      "Wall time: 1min 37s\n"
     ]
    }
   ],
   "source": [
    "%%time\n",
    "y_pred = model.predict_generator(test_generator, steps=test_steps, max_queue_size=128, workers=16, use_multiprocessing=False, verbose=1)\n",
    "print(y_pred.shape)"
   ]
  },
  {
   "cell_type": "code",
   "execution_count": 21,
   "metadata": {},
   "outputs": [
    {
     "name": "stdout",
     "output_type": "stream",
     "text": [
      "(10368, 120)\n",
      "(10357, 120)\n"
     ]
    }
   ],
   "source": [
    "print(y_pred.shape)\n",
    "y_pred = y_pred[0:n_test]\n",
    "print(y_pred.shape)\n",
    "# print(y_pred[-10:-5])\n",
    "# print(test_generator.filenames[-10:-5])\n",
    "# print(df2[-10:-5])"
   ]
  },
  {
   "cell_type": "code",
   "execution_count": 22,
   "metadata": {
    "collapsed": true
   },
   "outputs": [],
   "source": [
    "for i in range(0, 120):\n",
    "    df2.iloc[:,[i+1]] = y_pred[:,i]\n",
    "if not os.path.exists(output_path):\n",
    "    os.mkdir(output_path)\n",
    "pred_file = os.path.join(output_path, 'pred_' + run_name_acc + '.csv')\n",
    "df2.to_csv(pred_file, index=None)"
   ]
  },
  {
   "cell_type": "code",
   "execution_count": 23,
   "metadata": {},
   "outputs": [
    {
     "name": "stdout",
     "output_type": "stream",
     "text": [
      "Dog_Breed_Identification_InceptionV3FineTune_20171105_150015_6914\n",
      "Done!\n"
     ]
    }
   ],
   "source": [
    "print(run_name_acc)\n",
    "print('Done!')"
   ]
  },
  {
   "cell_type": "code",
   "execution_count": null,
   "metadata": {
    "collapsed": true
   },
   "outputs": [],
   "source": []
  }
 ],
 "metadata": {
  "kernelspec": {
   "display_name": "Python 3",
   "language": "python",
   "name": "python3"
  },
  "language_info": {
   "codemirror_mode": {
    "name": "ipython",
    "version": 3
   },
   "file_extension": ".py",
   "mimetype": "text/x-python",
   "name": "python",
   "nbconvert_exporter": "python",
   "pygments_lexer": "ipython3",
   "version": "3.5.4"
  }
 },
 "nbformat": 4,
 "nbformat_minor": 2
}
